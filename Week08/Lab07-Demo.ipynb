{
 "cells": [
  {
   "cell_type": "markdown",
   "id": "d417ab16",
   "metadata": {},
   "source": [
    "## 8.12(a) Earth's orbit using Verlet"
   ]
  },
  {
   "cell_type": "markdown",
   "id": "7af8a431",
   "metadata": {},
   "source": [
    "Position r(x,y) of Earth in its orbital plane: $$\\frac{d^2 \\mathbf r}{d t^2} = \\frac{-G M \\mathbf r}{r^3} $$\n",
    "where M = 1.9891e30 (mass of Sun in kg)\n",
    "\n",
    "Note, when Earth is at its closest point to the Sun (perihilion):\n",
    "* its direction of motion is perpendicular to the line between itself and the Sun\n",
    "* r = 1.471e11 m\n",
    "* linear velocity v = 3.0287e4 m/s\n",
    "\n",
    "Write a program to calculate the orbit using Verlet method, with timestep h = 1 hour."
   ]
  },
  {
   "cell_type": "code",
   "execution_count": 1,
   "id": "46eabfcf",
   "metadata": {},
   "outputs": [],
   "source": [
    "from scipy.constants import G, au\n",
    "import numpy as np\n",
    "import matplotlib.pyplot as plt\n",
    "from matplotlib import rc"
   ]
  },
  {
   "cell_type": "code",
   "execution_count": 2,
   "id": "f2b27111",
   "metadata": {},
   "outputs": [],
   "source": [
    "def f(r_):\n",
    "    \"\"\" Right-hand-side for velocity equation: gravitational force\n",
    "    INPUT: r_ = [x, y, vx, vy]\n",
    "    OUTPUT: Fx, Fy: along-x and -y gravitational forces\n",
    "    \"\"\"\n",
    "    x, y, vx, vy = r_[0], r_[1], r_[2], r_[3]\n",
    "    from scipy.constants import G  # computationally inefficient but short\n",
    "    M = 1.9891e30  # [kg] Mass of the Sun\n",
    "    r = (x**2 + y**2)**.5  # [m] distance to Sun\n",
    "    prefac = -M*G/r**3\n",
    "    return np.array([vx, vy, x*prefac, y*prefac], float)"
   ]
  },
  {
   "cell_type": "code",
   "execution_count": 3,
   "id": "8c45c5c0",
   "metadata": {},
   "outputs": [],
   "source": [
    "M = 1.9891e30  # [kg] Mass of the Sun\n",
    "PH = 1.4710e11  # [m] perihelion of the Earth\n",
    "VP = 3.0287e4  # [m/s] velocity of Earth at perihelion\n",
    "h = 3600.  # [s] time step\n",
    "\n",
    "Nrevs = 5  # number of revolutions around the Sun\n",
    "year = 365.25*24*3600.  # [s] duration of a year\n",
    "T = Nrevs*year  # [s] duration of integration\n",
    "Nsteps = int(T/h)  # number of time steps"
   ]
  },
  {
   "cell_type": "code",
   "execution_count": 4,
   "id": "9de4cc26",
   "metadata": {},
   "outputs": [],
   "source": [
    "# initialization of positions and  velocities\n",
    "pos = np.empty((2, Nsteps), float)  # 1st index: x, y\n",
    "vel = np.empty((2, Nsteps), float)  # idem for v\n",
    "\n",
    "# Jump-start with RK2 --------------------------------------------------------|\n",
    "# I define the x, y axes as: Earth start at perielion, along x>0, with along-y\n",
    "# positive velocity\n",
    "v0 = np.array([0., VP])  # initial velocity components\n",
    "pos[:, 0] = np.array([PH, 0.])\n",
    "r = (pos[0, 0]**2 + pos[1, 0]**2)**.5\n",
    "vel[:, 0] = v0 - h*G*M*pos[:, 0]/r**3\n",
    "\n",
    "\n",
    "# Verlet iterations ----------------------------------------------------------|\n",
    "for tt in range(1, Nsteps):\n",
    "    pos[:, tt] = pos[:, tt-1] + h*vel[:, tt-1]  # updating positions\n",
    "    r = (pos[0, tt]**2 + pos[1, tt]**2)**.5  # distance from Sun squared\n",
    "    vel[:, tt] = vel[:, tt-1] - h*G*M*pos[:, tt]/r**3  # updating velocities"
   ]
  },
  {
   "cell_type": "markdown",
   "id": "1feabf55",
   "metadata": {},
   "source": [
    "Make a plot of the orbit, showing several complete revolutions. Should be very slightly, but visibly, non-circular."
   ]
  },
  {
   "cell_type": "code",
   "execution_count": 5,
   "id": "62dce321",
   "metadata": {},
   "outputs": [
    {
     "data": {
      "image/png": "[encoded data removed]",
      "text/plain": [
       "<Figure size 600x400 with 1 Axes>"
      ]
     },
     "metadata": {
      "needs_background": "light"
     },
     "output_type": "display_data"
    }
   ],
   "source": [
    "pos_AU = pos/au  # for clearer axes\n",
    "plt.figure(dpi=100)\n",
    "plt.plot(pos_AU[0, :], pos_AU[1, :])\n",
    "plt.axvline(0.)\n",
    "plt.axhline(0.)\n",
    "plt.grid()\n",
    "plt.xlabel('$x$ (AU)')\n",
    "plt.ylabel('$y$ (AU)')\n",
    "plt.axis('equal')\n",
    "plt.tight_layout()\n",
    "plt.show()"
   ]
  },
  {
   "cell_type": "markdown",
   "id": "1204430e",
   "metadata": {},
   "source": [
    "## 8.13 (a) Earth's orbit using Bulirsch-Stoer"
   ]
  },
  {
   "cell_type": "markdown",
   "id": "249a4bd3",
   "metadata": {},
   "source": [
    "Calculate Earth's orbit using MMP + Richardson extrapolation, more accurately the previous program with Verlet.\n",
    "* Positional accuracy 1 km per year\n",
    "* Divide the orbit into intervals of length H = 1 week"
   ]
  },
  {
   "cell_type": "code",
   "execution_count": 12,
   "id": "ad39fa06",
   "metadata": {},
   "outputs": [],
   "source": [
    "Nrevs = 1.  #reset from previous part\n",
    "H = year/52  # [s] one week\n",
    "Nbig = int(year/H) + 1  # number of \"big steps\": enough for at least a year\n",
    "T = H*Nbig  # [s] total duration of integration\n",
    "delta = 1e3/year  # [m/s] Required position accuracy"
   ]
  },
  {
   "cell_type": "code",
   "execution_count": 13,
   "id": "f4659d95",
   "metadata": {},
   "outputs": [],
   "source": [
    "# initialization of positions and velocities and time-points\n",
    "tpoints = np.arange(0., T, H)\n",
    "x, y = [], []  # keep lists of x and y separately\n",
    "r = np.array([PH, 0., 0., VP], float)  # initial x, y, vx, vy respectively\n",
    "\n",
    "# Do the \"big steps\" of size H -----------------------------------------------|\n",
    "# virtually all lines are from Newman's bulirsch.py file\n",
    "for t in enumerate(tpoints):\n",
    "\n",
    "    x.append(r[0]/au)  # in astronomical units for easier plotting\n",
    "    y.append(r[1]/au)\n",
    "\n",
    "    # Do one modified midpoint step to get things started\n",
    "    n = 1\n",
    "    r1 = r + 0.5*H*f(r)  # recall that this is 4D\n",
    "    r2 = r + H*f(r1)  # recall that this is 4D\n",
    "\n",
    "    # The array R1 stores the first row of the extrapolation table,\n",
    "    # which contains only the single MMP estimate of the solution at the end of the interval\n",
    "    R1 = np.empty([1, 4], float)\n",
    "    R1[0] = 0.5*(r1 + r2 + 0.5*H*f(r2))\n",
    "\n",
    "    # Now increase n until the required accuracy is reached\n",
    "    error = 2*H*delta\n",
    "    while error > H*delta:\n",
    "\n",
    "        n += 1\n",
    "        h = H/n\n",
    "\n",
    "        # Modified midpoint method\n",
    "        r1 = r + 0.5*h*f(r)\n",
    "        r2 = r + h*f(r1)\n",
    "        for i in range(n-1):\n",
    "            r1 += h*f(r2)\n",
    "            r2 += h*f(r1)\n",
    "\n",
    "        # Calculate extrapolation estimates.\n",
    "        # Arrays R1 and R2 hold the two most recent lines of the table\n",
    "        R2 = R1\n",
    "        R1 = np.empty([n, 4], float)\n",
    "        R1[0] = 0.5*(r1 + r2 + 0.5*h*f(r2))\n",
    "        for m in range(1, n):\n",
    "            epsilon = (R1[m-1]-R2[m-1])/((n/(n-1))**(2*m)-1)\n",
    "            R1[m] = R1[m-1] + epsilon\n",
    "        error = abs(epsilon[0])\n",
    "\n",
    "    #print(\"We computed {} lines in the extrapolation table\".format(n))\n",
    "\n",
    "    # Set r equal to the most accurate estimate we have, before moving on to the next big step\n",
    "    r = R1[n-1]"
   ]
  },
  {
   "cell_type": "markdown",
   "id": "e50ade08",
   "metadata": {},
   "source": [
    "Make a plot of the orbit, showing at least one complete revolution around the Sun."
   ]
  },
  {
   "cell_type": "code",
   "execution_count": 14,
   "id": "ef5fd13e",
   "metadata": {},
   "outputs": [
    {
     "data": {
      "image/png": "[encoded data removed]",
      "text/plain": [
       "<Figure size 600x600 with 1 Axes>"
      ]
     },
     "metadata": {
      "needs_background": "light"
     },
     "output_type": "display_data"
    }
   ],
   "source": [
    "plt.figure(figsize=(6, 6), dpi=100)\n",
    "plt.plot(x, y, '+')   # one cross every week\n",
    "plt.axvline(0.)\n",
    "plt.axhline(0.)\n",
    "plt.grid()\n",
    "plt.xlabel('$x$ (AU)')\n",
    "plt.ylabel('$y$ (AU)')\n",
    "plt.axis('equal')\n",
    "plt.title(\"Planetary orbit\")\n",
    "plt.tight_layout()\n",
    "plt.show()"
   ]
  },
  {
   "cell_type": "markdown",
   "id": "8b22e2b2",
   "metadata": {},
   "source": [
    "Now try it for Pluto's orbit, which is significantly more elliptical than Earth's. At perihilion: r = 4.4368e12 m, v = 6.1218 /s "
   ]
  },
  {
   "cell_type": "code",
   "execution_count": 11,
   "id": "f98f204e",
   "metadata": {},
   "outputs": [],
   "source": [
    "PH = 4.4368e12  # [m] perihelion\n",
    "VP = 6.1218e3  # [m/s] velocity at perihelion\n",
    "year = 249*365.25*24*3600.  # [s] duration of a PLuto year"
   ]
  },
  {
   "cell_type": "code",
   "execution_count": null,
   "id": "d80e6ced",
   "metadata": {},
   "outputs": [],
   "source": []
  }
 ],
 "metadata": {
  "kernelspec": {
   "display_name": "Python 3 (ipykernel)",
   "language": "python",
   "name": "python3"
  },
  "language_info": {
   "codemirror_mode": {
    "name": "ipython",
    "version": 3
   },
   "file_extension": ".py",
   "mimetype": "text/x-python",
   "name": "python",
   "nbconvert_exporter": "python",
   "pygments_lexer": "ipython3",
   "version": "3.9.7"
  }
 },
 "nbformat": 4,
 "nbformat_minor": 5
}
