{
 "cells": [
  {
   "cell_type": "markdown",
   "metadata": {
    "slideshow": {
     "slide_type": "slide"
    }
   },
   "source": [
    "*Supporting textbook chapters for week 8: Chapters 9.1, 9.2, 9.3.1* \n",
    "\n",
    "Lecture 8, topics:\n",
    "* Classifying PDEs\n",
    "* Elliptic equation solvers: Jacobi, Gauss-Seidel, overrelaxation\n",
    "* Parabolic equation solver: FTCS (Forward Time, Centered Space)\n",
    "* Stability."
   ]
  },
  {
   "cell_type": "markdown",
   "metadata": {
    "cell_style": "split",
    "slideshow": {
     "slide_type": "slide"
    }
   },
   "source": [
    "## Classifying PDEs\n",
    "\n",
    "Recall conical equations in geometry:\n",
    "$$ \\alpha x^2 + \\beta xy + \\gamma y^2 + \\delta x + \\varepsilon y = f, $$\n",
    "classified using \n",
    "$$ \\Delta = \\beta^2 - 4\\alpha\\gamma.$$\n",
    "\n",
    "1. $\\Delta = 0$: equation for a parabola,\n",
    "3. $\\Delta < 0$: equation for an ellipse,\n",
    "2. $\\Delta > 0$: equation for a hyperbola."
   ]
  },
  {
   "cell_type": "markdown",
   "metadata": {
    "cell_style": "split",
    "slideshow": {
     "slide_type": "subslide"
    }
   },
   "source": [
    "![By Pbroks13 [CC BY 3.0  (https://creativecommons.org/licenses/by/3.0)], from Wikimedia Commons](500px-Conic_sections_with_plane.png)"
   ]
  },
  {
   "cell_type": "markdown",
   "metadata": {
    "slideshow": {
     "slide_type": "subslide"
    }
   },
   "source": [
    "Similar for PDEs:\n",
    "$$ \\alpha\\frac{\\partial^2 \\phi}{\\partial x^2} + \\beta\\frac{\\partial^2 \\phi}{\\partial x\\partial y} + \\gamma\\frac{\\partial^2 \\phi}{\\partial y^2} + \\delta \\frac{\\partial\\phi}{\\partial x} + \\varepsilon\\frac{\\partial\\phi}{\\partial y} = f.$$\n",
    "\n",
    "Imagine Fourier modes to convince yourself of the connection:\n",
    "$$\\binom{\\phi}{f} = \\binom{\\Phi}{F}\\text e^{i (kx + \\ell y)}\\Rightarrow -\\alpha k^2 - \\beta k\\ell - \\gamma \\ell^2 + i \\delta k +  i \\varepsilon\\ell = \\frac{F}\\Phi.$$\n",
    "$$\\Rightarrow (x, y) \\leftrightarrow (i k, i \\ell)$$\n"
   ]
  },
  {
   "cell_type": "markdown",
   "metadata": {
    "cell_style": "split",
    "slideshow": {
     "slide_type": "subslide"
    }
   },
   "source": [
    "$$ \\alpha\\frac{\\partial^2 \\phi}{\\partial x^2} + \\beta\\frac{\\partial^2 \\phi}{\\partial x\\partial y} + \\gamma\\frac{\\partial^2 \\phi}{\\partial y^2} + \\delta\\frac{\\partial\\phi}{\\partial x} +  \\varepsilon\\frac{\\partial\\phi}{\\partial y} = f.$$\n",
    "With $\\Delta = \\beta^2 - 4\\alpha\\gamma$,\n",
    "1. $\\Delta = 0$: parabolic PDE,\n",
    "3. $\\Delta < 0$: elliptic PDE,\n",
    "2. $\\Delta > 0$: hyperbolic PDE."
   ]
  },
  {
   "cell_type": "markdown",
   "metadata": {
    "slideshow": {
     "slide_type": "subslide"
    }
   },
   "source": [
    "1. Canonical parabolic PDE: the diffusion equation, $ \\kappa \\frac{\\partial ^2 T}{\\partial x^2}  - \\frac{\\partial T}{\\partial t} = 0$,\n",
    "    $$x\\to x,\\quad y\\to t,\\quad \\alpha \\to \\kappa,\\quad \\varepsilon \\to - 1,\\quad \\beta, \\gamma, \\delta, f \\to 0 \\quad\\Rightarrow\\quad \\beta^2 - 4\\alpha\\gamma = 0.$$\n",
    "3. Canonical elliptic PDE: the Poisson equation, $\\ \\nabla^2 \\phi = \\rho$,\n",
    "    $$x\\to x,\\quad y\\to y,\\quad\\alpha, \\gamma \\to 1,\\quad f \\to \\rho,\\quad \\beta, \\delta, \\varepsilon \\to 0 \\quad\\Rightarrow\\quad \\beta^2 - 4\\alpha\\gamma = -4<0.$$\n",
    "2. Canonical hyperbolic PDE: the wave equation, $\\ \\displaystyle c^2 \\frac{\\partial ^2 \\phi}{\\partial x^2}  - \\frac{\\partial^2 \\phi}{\\partial t^2} = 0.$\n",
    "    $$x\\to x,\\quad y\\to t,\\quad \\alpha \\to c^2,\\quad \\gamma \\to - 1,\\quad \\beta, \\delta, \\varepsilon, f \\to 0 \\quad\\Rightarrow\\quad \\beta^2 - 4\\alpha\\gamma = 4c^2 >0.$$"
   ]
  },
  {
   "cell_type": "markdown",
   "metadata": {
    "slideshow": {
     "slide_type": "subslide"
    }
   },
   "source": [
    "Note: we use these expressions even when the spatial operator is $\\nabla^2 = \\partial_x^2 + \\partial_y^2 + \\partial_z^2$, i.e., for 4D PDEs.\n",
    "\n",
    "It is a departure from the original classification (see http://www.math.toronto.edu/courses/apm346h1/20129/LA.html), but usually harmless in Physics."
   ]
  },
  {
   "cell_type": "markdown",
   "metadata": {
    "slideshow": {
     "slide_type": "subslide"
    }
   },
   "source": [
    "* Solving partial differential equations is one of the pinnacles of computational physics, bringing together many methods.\n",
    "* Parabolic, hyperbolic, elliptic PDE: each type comes with design decisions on how to discretize and implement numerical methods,\n",
    "* Stability is crucial.\n",
    "* Accuracy is crucial too."
   ]
  },
  {
   "cell_type": "markdown",
   "metadata": {
    "slideshow": {
     "slide_type": "subslide"
    }
   },
   "source": [
    "## General approach\n",
    "\n",
    "* Discretize system spatially and temporally: can use finite difference, spectral coefficients, etc.\n",
    "* $\\Rightarrow$ set of coupled ODEs that you need to solve in an efficient way.\n",
    "* Spatial derivatives bring information in from neighbouring points $\\Rightarrow$ coupling,\n",
    "* $\\Rightarrow$ errors depend on space and time and can get wave-like characteristics.\n",
    "* For 2nd derivatives, recall central difference calculation (§5.10.5, p.197):\n",
    "$$f''(x) = \\frac{f(x+h) - 2f(x)+ f(x-h)}{h^2} - \\frac{1}{12}h^2 f^{(4)}(x) + \\dots{}$$"
   ]
  },
  {
   "cell_type": "markdown",
   "metadata": {
    "cell_style": "split",
    "slideshow": {
     "slide_type": "slide"
    }
   },
   "source": [
    "# Elliptic equations\n",
    "\n",
    "* For solutions of Laplace's or Poisson's equation.\n",
    "* E.g.: electrostatics, with electric potential $\\phi$ s.t. $\\vec E  = \\nabla \\phi$, in the absence of charges $(\\rho \\equiv 0)$.\n",
    "* Gauss' law:\n",
    "$$\\frac{\\partial^2 \\phi}{\\partial x^2} + \\frac{\\partial^2 \\phi}{\\partial y^2} = 0$$"
   ]
  },
  {
   "cell_type": "markdown",
   "metadata": {
    "cell_style": "split",
    "slideshow": {
     "slide_type": "subslide"
    }
   },
   "source": [
    "![Newman fig. 9.2](fig9-2.png)"
   ]
  },
  {
   "cell_type": "markdown",
   "metadata": {
    "slideshow": {
     "slide_type": "subslide"
    }
   },
   "source": [
    "2D Laplacian:\n",
    "$$\\nabla^2 \\phi  = \\frac{\\partial^2 \\phi}{\\partial x^2} + \\frac{\\partial^2 \\phi}{\\partial y^2},$$\n",
    "\n",
    "On regular square grid of cell side length $a$, finite difference form is\n",
    "\\begin{align}\n",
    "\\frac{\\partial^2 \\phi}{\\partial x^2} & \\approx \\frac{\\phi(x+a, y) - 2\\phi(x, y)+ \\phi(x-a, y)}{a^2},\\\\\n",
    "\\frac{\\partial^2 \\phi}{\\partial y^2} & \\approx \\frac{\\phi(x, y+a) - 2\\phi(x, y)+ \\phi(x, y-a)}{a^2}.\n",
    "\\end{align}\n",
    "Gauss's law:\n",
    "$$0 \\approx \\phi(x+a, y) + \\phi(x-a, y) + \\phi(x, y+a) + \\phi(x, y-a) - 4\\phi(x, y)$$\n",
    "at each location $(x, y)$."
   ]
  },
  {
   "cell_type": "markdown",
   "metadata": {
    "slideshow": {
     "slide_type": "subslide"
    }
   },
   "source": [
    "* Put together a series of equations of the form\n",
    "    $$\\phi(x+a, y) + \\phi(x-a, y) + \\phi(x, y+a) + \\phi(x, y-a) - 4\\phi(x) = 0$$\n",
    "    for each $x$ and $y$, subject to boundary conditions.\n",
    "* $\\phi$ or derivative $\\partial\\phi/\\partial \\xi$ ($\\xi = x,\\ y,$ or both) given on boundary.\n",
    " * If $\\phi$ given, use this value for adjacent points.\n",
    " * If $\\partial\\phi/\\partial \\xi$ given, find algebraic relationship between points near to boundary using finite difference.\n",
    "* Could solve using matrix methods $\\mathbf L \\phi = \\mathbf R \\phi$, but a simpler method is possible.\n"
   ]
  },
  {
   "cell_type": "markdown",
   "metadata": {
    "slideshow": {
     "slide_type": "slide"
    }
   },
   "source": [
    "## Jacobi relaxation method\n",
    "\n",
    "$$\\phi(x+a, y) + \\phi(x-a, y) + \\phi(x, y+a) + \\phi(x, y-a) - 4\\phi(x) = 0$$\n",
    "* Iterate the rule\n",
    "$\\phi_{new}(x, y) = \\frac14\\left[\\phi(x+a, y) + \\phi(x-a, y) + \\phi(x, y+a) + \\phi(x, y-a)\\right].$\n",
    "* Much like the relaxation method for finding solutions of $f(x) = x$,\n",
    "* For this problem it turns out that Jacobi Relaxation is always stable and so always gives a solution!\n",
    "* Let's look at `laplace.py`"
   ]
  },
  {
   "cell_type": "code",
   "execution_count": 14,
   "metadata": {
    "slideshow": {
     "slide_type": "subslide"
    }
   },
   "outputs": [],
   "source": [
    "# From Newman's laplace.py\n",
    "from numpy import empty, zeros, amax\n",
    "import matplotlib.pyplot as plt\n",
    "\n",
    "# Constants\n",
    "M = 10         # Grid squares on a side\n",
    "V = 1.0         # Voltage at top wall\n",
    "target = 1e-4   # [V] Target accuracy\n",
    "\n",
    "# DON'T EXECUTE IN CLASS WITH LARGE M, IT TAKES TOO LONG!\n",
    "# Create arrays to hold potential values\n",
    "phi = zeros([M+1, M+1], float)\n",
    "phi[0, :] = V\n",
    "phinew = empty([M+1, M+1], float)"
   ]
  },
  {
   "cell_type": "code",
   "execution_count": 15,
   "metadata": {
    "slideshow": {
     "slide_type": "subslide"
    }
   },
   "outputs": [],
   "source": [
    "# Main loop;\n",
    "delta = 1.0\n",
    "while delta > target:\n",
    "\n",
    "    # Calculate new values of the potential, except on boundaries\n",
    "    for i in range(1, M):\n",
    "        for j in range(1, M):\n",
    "                phinew[i, j] = (phi[i+1, j] + phi[i-1, j] + phi[i, j+1] + phi[i, j-1])/4\n",
    "\n",
    "    # Calculate maximum difference from old values\n",
    "    delta = amax(abs(phi-phinew))\n",
    "\n",
    "    # Swap the two arrays around\n",
    "    phi, phinew = phinew, phi"
   ]
  },
  {
   "cell_type": "code",
   "execution_count": 16,
   "metadata": {
    "slideshow": {
     "slide_type": "subslide"
    }
   },
   "outputs": [
    {
     "data": {
      "image/png": "[encoded data removed]",
      "text/plain": [
       "<Figure size 900x600 with 1 Axes>"
      ]
     },
     "metadata": {
      "needs_background": "light"
     },
     "output_type": "display_data"
    }
   ],
   "source": [
    "plt.figure(dpi=150)\n",
    "plt.imshow(phi)\n",
    "plt.gray()\n",
    "plt.xlabel('$x$')\n",
    "plt.ylabel('$y$')\n",
    "plt.show()"
   ]
  },
  {
   "cell_type": "markdown",
   "metadata": {
    "slideshow": {
     "slide_type": "subslide"
    }
   },
   "source": [
    "## Overrelaxation method\n",
    "\n",
    "$\\phi_{new}(x,y) = $\n",
    "$$(1+\\omega)\\left[\\frac{\\phi(x+a, y) + \\phi(x-a, y) + \\phi(x, y+a) + \\phi(x, y-a)}4\\right] - \\omega \\phi (x,y)$$\n",
    "* When it works, it usually speeds up the calculation.\n",
    "* Not always stable! How to choose $\\omega$ is not always reproducible.\n",
    "* see Newman's exercise 6.11 for a similar problem for finding $f(x)=x$."
   ]
  },
  {
   "cell_type": "markdown",
   "metadata": {
    "slideshow": {
     "slide_type": "slide"
    }
   },
   "source": [
    "## Gauss-Seidel method\n",
    "\n",
    "* Replace function on the fly as in\n",
    "$$\\phi(x, y) \\leftarrow \\frac{\\phi(x+a, y) + \\phi(x-a, y) + \\phi(x, y+a) + \\phi(x, y-a)}4.$$\n",
    "* Crucial difference: the LHS is $\\phi$, not $\\phi_{new}$: we use newer values as they are being computed (Jacobi used only old values to compute new one).\n",
    "* This can be shown to run faster.\n",
    "* Can be combined with overrelaxation."
   ]
  },
  {
   "cell_type": "markdown",
   "metadata": {
    "slideshow": {
     "slide_type": "subslide"
    }
   },
   "source": [
    "The old Jacobi code snippet:"
   ]
  },
  {
   "cell_type": "code",
   "execution_count": null,
   "metadata": {
    "slideshow": {
     "slide_type": "fragment"
    }
   },
   "outputs": [],
   "source": [
    "# Calculate new values of the potential\n",
    "for i in range(1, M):\n",
    "    for j in range(1, M):\n",
    "            phinew[i, j] = (phi[i+1, j] + phi[i-1, j] + phi[i, j+1] + phi[i, j-1])/4\n",
    "# Swap the two arrays around\n",
    "phi, phinew = phinew, phi"
   ]
  },
  {
   "cell_type": "markdown",
   "metadata": {
    "slideshow": {
     "slide_type": "fragment"
    }
   },
   "source": [
    "becomes:"
   ]
  },
  {
   "cell_type": "code",
   "execution_count": null,
   "metadata": {
    "slideshow": {
     "slide_type": "fragment"
    }
   },
   "outputs": [],
   "source": [
    "# Calculate new values of the potential\n",
    "for i in range(1, M):  \n",
    "    for j in range(1, M): #no phi_new in this loop  \n",
    "        phi[i, j] = (phi[i+1, j] + phi[i-1, j] + phi[i, j+1] + phi[i, j-1])/4"
   ]
  },
  {
   "cell_type": "markdown",
   "metadata": {
    "cell_style": "center",
    "slideshow": {
     "slide_type": "slide"
    }
   },
   "source": [
    "# Parabolic PDEs: Forward Time Centred Space method\n",
    "\n",
    "* Consider the 1D heat equation:\n",
    "$$\\frac{\\partial T}{\\partial t} = \\kappa\\frac{\\partial^2 T}{\\partial x^2},$$\n",
    "* B.Cs.:\n",
    "    $$T(x=0, t) = T_0, \\quad T(x=L, t) = T_L.$$\n",
    "* I.C.:\n",
    "    $$T(x, t=0) = T_0 +  (T_L - T_0)\\left(\\frac{f(x) - f(0)}{f(L) - f(0)}\\right)$$"
   ]
  },
  {
   "cell_type": "markdown",
   "metadata": {
    "cell_style": "center",
    "slideshow": {
     "slide_type": "subslide"
    }
   },
   "source": [
    "**Step 1: Discretize in space**\n",
    "\n",
    "$\\displaystyle x_m = \\frac{m}{M}L = am, \\quad m=0\\dots{}M, \\quad a = \\frac{L}M$,\n",
    "\n",
    "$T_m(t) = \\left[T_0(t), \\dots{}, T_{M}(t)\\right]$\n",
    "\n",
    "$\\displaystyle \\left.\\frac{\\partial^2 T}{\\partial x^2}\\right|_{x=x_m, t} \\approx \\frac{T_{m+1} - 2 T_m + T_{m-1}}{a^2}\\quad$ (\"centred space\", CS)"
   ]
  },
  {
   "cell_type": "markdown",
   "metadata": {
    "slideshow": {
     "slide_type": "subslide"
    }
   },
   "source": [
    "**Step 2: Discretize in time**\n",
    "\n",
    "$\\displaystyle \\frac{d T_m}{d t} \\approx \\kappa\\frac{T_{m+1} - 2 T_m + T_{m-1}}{a^2},\\quad m = 1 \\dots{}, M-1$\n",
    "\n",
    "Let $t_n = nh$, $h$ the time step. Let $T_m(t_n) \\equiv T_m^n$.\n",
    "\n",
    "$\\displaystyle \\Rightarrow \\left.\\frac{\\partial T}{\\partial t}\\right|_{x=ma, t=nh} \\approx \\frac{T_{m}^{n+1} - T_m^n}{h} \\equiv \\kappa\\frac{T_{m+1}^n - 2 T_m^n + T_{m-1}^n}{a^2}$ (\"Forward Time\", FT).\n",
    "\n",
    "$\\Rightarrow$ **Explicit FTCS method:**\n",
    "$$\\boxed{T_m^{n+1} = T_m^n + \\frac{\\kappa h}{a^2}\\left(T_{m+1}^n - 2 T_m^n + T_{m-1}^n\\right)}.$$"
   ]
  },
  {
   "cell_type": "markdown",
   "metadata": {
    "slideshow": {
     "slide_type": "slide"
    }
   },
   "source": [
    "## Von Neumann Stability Analysis\n",
    "\n",
    "* How can we determine stability in PDEs?\n",
    "* A simple way is to consider a single spatial Fourier mode.\n",
    "* $T_m^n$ as an inverse DFT: $\\quad\\displaystyle T_m^n = \\sum_k \\widehat T_k^n \\exp(i kx_m)$"
   ]
  },
  {
   "cell_type": "markdown",
   "metadata": {
    "slideshow": {
     "slide_type": "subslide"
    }
   },
   "source": [
    "* If $T_m^n = \\widehat T_k^n \\exp(i kx_m) = \\widehat T_k^n\\exp (i kam)$ (one Fourier mode in $x$), and\n",
    "    $$T_m^{n+1} = T_m^n + \\frac{\\kappa h}{a^2}\\left(T_{m+1}^n - 2 T_m^n + T_{m-1}^n\\right)$$\n",
    "    Then\n",
    "    $$\\widehat T_k^{n+1}\\text e^{i kam} = \\left(1 - \\frac{2\\kappa h }{a^2}\\right) \\widehat T_k^n\\text e^{i kam} + \\frac{\\kappa h}{a^2}\\left(\\widehat T_{k}^n\\text e^{i ka(m+1)} - \\widehat T_k^n \\text e^{i ka(m-1)}\\right)$$\n",
    "    $$\\Rightarrow \\left|\\frac{\\widehat T_k^{n+1}}{\\widehat T_k^n}\\right| = 1 + \\frac{\\kappa h}{a^2}\\left(\\text e^{i ka} + \\text e^{-i ka} - 2\\right) = \\left|1 - \\frac{4h\\kappa}{a^2}\\sin^2\\left(\\frac{ka}{2}\\right)\\right|.$$\n",
    "* This is the growth factor, and it should be less than unity if the solution is not meant to grow"
   ]
  },
  {
   "cell_type": "markdown",
   "metadata": {
    "slideshow": {
     "slide_type": "subslide"
    }
   },
   "source": [
    "Stability criterion:\n",
    "$$\\boxed{h \\leq \\frac{a^2}{2\\kappa}}. \\qquad\\textit{(independent of $k$!)}$$\n",
    "\n",
    "FTCS stable for the parabolic equation, provided temporal resolution is adequate ($a\\geq \\sqrt{2\\kappa h}$)."
   ]
  },
  {
   "cell_type": "markdown",
   "metadata": {
    "slideshow": {
     "slide_type": "slide"
    }
   },
   "source": [
    "## FTCS for hyperbolic equations: instability\n",
    "\n",
    "* Reminder: wave equation is hyperbolic,\n",
    "$$\\frac{\\partial^2 \\phi}{\\partial t^2} = c^2\\frac{\\partial^2 \\phi}{\\partial x^2},$$\n",
    "and is subject to suitable boundary and initial conditions.\n",
    "* Spatially: $\\displaystyle \\frac{\\partial^2 \\phi_m}{\\partial t^2} \\approx \\frac{c^2}{a^2}\\left(\\phi_{m+1}  -2\\phi_m + \\phi_{m-1}\\right), \\quad m = 1, \\dots{}, M-1$.\n",
    "* Temporally: transform to pairs of 1st-order ODEs\n",
    "$$\\frac{d \\phi_m}{d t} = \\psi_m, \\quad \\text{and}\\quad \\frac{d \\psi_m}{d t} = \\frac{c^2}{a^2}\\left(\\phi_{m+1} - 2\\phi_m + \\phi_{m-1}\\right)$$\n",
    "and discretize using forward Euler ($2M$ ODEs)."
   ]
  },
  {
   "cell_type": "markdown",
   "metadata": {
    "slideshow": {
     "slide_type": "subslide"
    }
   },
   "source": [
    "$$\\frac{d \\phi_m}{d t} = \\psi_m, \\quad \\text{and}\\quad \\frac{d \\psi_m}{d t} = \\frac{c^2}{a^2}\\left(\\phi_{m+1} - 2\\phi_m + \\phi_{m-1}\\right)$$\n",
    "\n",
    "Using forward Euler for each:\n",
    "\n",
    "\\begin{align*}\n",
    "\\phi_m^{n+1} & = \\phi_m^{n} + h\\psi_m^{n},\\\\\n",
    "\\psi_m^{n+1} & = \\psi_m^{n} + h\\frac{c^2}{a^2}\\left(\\phi_{m-1}^{n} + \\phi_{m+1}^{n} - 2\\phi_m^{n}\\right).\n",
    "\\end{align*}\n",
    "or, equivalently:\n",
    "$$\n",
    "\\begin{bmatrix}\n",
    "    \\phi_m^{n+1} \\\\\n",
    "    \\psi_m^{n+1}\n",
    "\\end{bmatrix}\n",
    "= \n",
    "\\begin{bmatrix}\n",
    "    1 & h \\\\\n",
    "    -\\frac{2hc^2}{a^2} & 1\n",
    "\\end{bmatrix}\n",
    "\\begin{bmatrix}\n",
    "    \\phi_m^{n} \\\\\n",
    "    \\psi_m^{n}\n",
    "\\end{bmatrix}\n",
    "+\n",
    "\\begin{bmatrix}\n",
    "    0 \\\\\n",
    "    \\frac{c^2 h}{a^2}\\left(\\phi_{m+1}^n + \\phi_{m-1}^n\\right)\n",
    "\\end{bmatrix}\n",
    "$$"
   ]
  },
  {
   "cell_type": "markdown",
   "metadata": {
    "slideshow": {
     "slide_type": "subslide"
    }
   },
   "source": [
    "Take $\n",
    "\\begin{bmatrix}\n",
    "    \\phi_m^{n+1} \\\\\n",
    "    \\psi_m^{n+1}\n",
    "\\end{bmatrix}\n",
    "= \n",
    "\\begin{bmatrix}\n",
    "    1 & h \\\\\n",
    "    -\\frac{2hc^2}{a^2} & 1\n",
    "\\end{bmatrix}\n",
    "\\begin{bmatrix}\n",
    "    \\phi_m^{n} \\\\\n",
    "    \\psi_m^{n}\n",
    "\\end{bmatrix}\n",
    "+\n",
    "\\begin{bmatrix}\n",
    "    0 \\\\\n",
    "    \\frac{c^2 h}{a^2}\\left(\\phi_{m+1}^n + \\phi_{m-1}^n\\right)\n",
    "\\end{bmatrix}\n",
    "$\n",
    "\n",
    "and consider single Fourier mode,\n",
    "$\n",
    "\\begin{bmatrix}\n",
    "    \\phi_m^n \\\\\n",
    "    \\psi_m^n\n",
    "\\end{bmatrix}\n",
    "= \n",
    "\\begin{bmatrix}\n",
    "    \\widehat\\phi_k^{n} \\\\\n",
    "    \\widehat\\psi_k^{n}\n",
    "\\end{bmatrix}\\exp(i kma)\n",
    "$\n",
    "   . Obtain, after some algebra,\n",
    "$$\n",
    "\\begin{bmatrix}\n",
    "    \\widehat\\phi_k^{n+1} \\\\\n",
    "    \\widehat\\psi_k^{n+1}\n",
    "\\end{bmatrix}\n",
    "=\n",
    "\\mathbf A \\begin{bmatrix}\n",
    "    \\widehat\\phi_k^{n} \\\\\n",
    "    \\widehat\\psi_k^{n}\n",
    "\\end{bmatrix},$$\n",
    "$$\n",
    "\\text{with}\\quad \\mathbf A = \n",
    "\\begin{bmatrix}\n",
    "    1 & h \\\\\n",
    "    -hr^2 & 1\n",
    "\\end{bmatrix}\\quad \\text{and}\\quad\n",
    "r^2 = \\frac{2c}{a}\\sin\\frac{ka}{2},\n",
    "$$\n",
    "which **does** depend on $k$."
   ]
  },
  {
   "cell_type": "markdown",
   "metadata": {
    "slideshow": {
     "slide_type": "subslide"
    }
   },
   "source": [
    "$\n",
    "\\begin{bmatrix}\n",
    "    \\widehat\\phi_k^{n+1} \\\\\n",
    "    \\widehat\\psi_k^{n+1}\n",
    "\\end{bmatrix}\n",
    "=\n",
    "\\mathbf A \\begin{bmatrix}\n",
    "    \\widehat\\phi_k^{n} \\\\\n",
    "    \\widehat\\psi_k^{n}\n",
    "\\end{bmatrix},$\n",
    "$\\text{with}\\quad \\mathbf A = \n",
    "\\begin{bmatrix}\n",
    "    1 & h \\\\\n",
    "    -hr^2 & 1\n",
    "\\end{bmatrix}\\quad \\text{and}\\quad\n",
    "r = \\frac{2c}{a}\\sin\\frac{ka}{2}.\n",
    "$\n",
    "\n",
    "* Eigenvalues of $\\mathbf A$ are $\\lambda_{1} = 1 + i hr$ and $\\lambda_{2} = 1 - i hr$,\n",
    " * therefore, $|\\lambda_\\pm|^2 = 1 + h^2 r^2 \\geq 1$.\n",
    "* Define corresponding eigenvectors $\\mathbf V_1$ and $\\mathbf V_2$, project initial condition on eigenvectors, i.e., write $\\alpha_1\\mathbf V_1 + \\alpha_2 \\mathbf V_2$.\n",
    "* After $p$ time steps, solution becomes $\\alpha_1\\lambda_1^p \\mathbf V_1 + \\alpha_2 \\lambda_2^p \\mathbf V_2$, which grows unbounded!\n",
    "\n",
    "**$\\Rightarrow$ FTCS always unstable for the wave equation!**"
   ]
  },
  {
   "cell_type": "markdown",
   "metadata": {
    "cell_style": "split",
    "slideshow": {
     "slide_type": "slide"
    }
   },
   "source": [
    "# Summary\n",
    "\n",
    "* 2nd-order PDEs can be elliptical, parabolic, hyperbolic.\n",
    "* Elliptical equations (e.g., Poisson eqn.):\n",
    "    * Jacobi relaxation (always stable),\n",
    "    * Speed-up with overrelaxation (not always stable),\n",
    "    * Gauss-Seidel (overrelaxed or not): replace on the fly; more stable than Jacobi when overrelaxing."
   ]
  },
  {
   "cell_type": "markdown",
   "metadata": {
    "cell_style": "split",
    "slideshow": {
     "slide_type": "subslide"
    }
   },
   "source": [
    "* Parabolic PDEs (e.g., heat eqn):\n",
    "    * FTCS (Forward Time, Centred Space) scheme: centred finite-diff. in space, forward Euler in time\n",
    "    * Von Neumann analysis says stable if sufficient resolution in space.\n",
    "* Hyperbolic PDEs (e.g., wave eqn.):\n",
    "    * Von Neumann analysis says FTCS never stable.\n",
    "    * See next week for better schemes.\n",
    "* Von Neumann stability analysis: plug a Fourier mode, see if it grows or not."
   ]
  }
 ],
 "metadata": {
  "celltoolbar": "Slideshow",
  "kernelspec": {
   "display_name": "Python 3 (ipykernel)",
   "language": "python",
   "name": "python3"
  },
  "language_info": {
   "codemirror_mode": {
    "name": "ipython",
    "version": 3
   },
   "file_extension": ".py",
   "mimetype": "text/x-python",
   "name": "python",
   "nbconvert_exporter": "python",
   "pygments_lexer": "ipython3",
   "version": "3.9.7"
  }
 },
 "nbformat": 4,
 "nbformat_minor": 2
}
