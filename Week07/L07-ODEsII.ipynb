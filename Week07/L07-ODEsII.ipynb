{
 "cells": [
  {
   "cell_type": "raw",
   "metadata": {
    "slideshow": {
     "slide_type": "skip"
    }
   },
   "source": [
    "\\DefineVerbatimEnvironment{Verbatim}{Verbatim}{fontsize=\\scriptsize}\n",
    "\n",
    "\\newcommand{\\bnabla}{\\boldsymbol{\\nabla}}\n",
    "\\newcommand{\\eexp}[1]{\\text{e}^{#1}}\n",
    "\\newcommand{\\di}[0]{\\text{d}}\n",
    "\\newcommand{\\bs}[1]{\\boldsymbol{#1}}\n",
    "\\newcommand{\\ode}[2]{\\frac{\\di {#1}}{\\di {#2}}}\n",
    "\\newcommand{\\oden}[3]{\\frac{\\di^{#1} {#2}}{\\di {#3}^{#1}}}\n",
    "\\newcommand{\\odel}[2]{\\di {#1}/\\di {#2}}\n",
    "\\newcommand{\\odeln}[3]{\\di^{#1} {#2}/\\di {#3}^{#1}}\n",
    "\\newcommand{\\pde}[2]{\\frac{\\partial {#1}}{\\partial {#2}}}\n",
    "\\newcommand{\\pden}[3]{\\frac{\\partial^{#1} {#2}}{\\partial {#3}^{#1}}}\n",
    "\\newcommand{\\pdel}[2]{\\partial_{#2} {#1}}\n",
    "\\newcommand{\\pdenl}[3]{\\partial^{#1}_{#3} {#2}}\n",
    "\\newcommand{\\divr}[1]{\\vec\\nabla \\cdot {#1}}\n",
    "\\newcommand{\\divrb}[1]{\\boldsymbol{\\nabla} \\cdot {#1}}\n",
    "\\newcommand{\\grad}[1]{\\vec \\nabla {#1}}\n",
    "\\newcommand{\\gradb}[1]{\\boldsymbol\\nabla {#1}}\n",
    "\\newcommand{\\curl}[1]{\\vec\\nabla \\times {#1}}\n",
    "\\newcommand{\\curlb}[1]{\\boldsymbol{\\nabla}\\times\\boldsymbol{#1}}\n",
    "\\newcommand{\\lapl}[0]{\\vec\\nabla^2}\n",
    "\\newcommand{\\laplb}[0]{\\boldsymbol{\\nabla}^2}\n",
    "\\newcommand{\\ci}[0]{\\text{i}}\n",
    "\\newcommand{\\unit}[1]{\\mathbf{\\hat{#1}}}\n",
    "\\newcommand{\\with}[0]{\\quad\\text{with}\\quad}\n",
    "\\newcommand{\\thrfor}[0]{\\quad\\Rightarrow\\quad}\n",
    "\\newcommand{\\andeq}[0]{\\quad\\text{and}\\quad}\n",
    "\\newcommand{\\oreq}[0]{\\quad\\text{or}\\quad}\n",
    "\\newcommand{\\stirling}[2]{\\genfrac{[}{]}{0pt}{}{#1}{#2}}"
   ]
  },
  {
   "cell_type": "markdown",
   "metadata": {
    "slideshow": {
     "slide_type": "slide"
    }
   },
   "source": [
    "*Supporting textbook chapters for week 7: Chapters 8.4, 8.2, 8.5.5, 8.6*\n",
    "\n",
    "Lecture 7, topics:\n",
    "* Adaptive step size for RK schemes,\n",
    "* Bulirsch-Stoer method,\n",
    "* Boundary value problems,\n",
    "* Stability issues."
   ]
  },
  {
   "cell_type": "markdown",
   "metadata": {
    "slideshow": {
     "slide_type": "slide"
    }
   },
   "source": [
    "Last week: ODE(s) with some initial condition(s):\n",
    "* 1D: $\\quad\\displaystyle \\ode{x}{t} = f(x, t)\\quad \\text{with}\\quad x(t=0)=x_0.$\n",
    "* $n$D: $\\quad\\displaystyle \\ode{x_i}{t} = f_i(x_1,\\dots{},x_n, t)\\quad \\text{with}\\quad x_i(t=0)=x_{i0}.$\n",
    "* higher order, e.g.: \n",
    "$$\\oden3{x}{t} =f(x, t)\\quad \\Leftrightarrow \\quad \\ode{x}{t} = v,\\ \\ode{v}{t} = a,\\ \\ode{a}{t}=f.$$"
   ]
  },
  {
   "cell_type": "markdown",
   "metadata": {
    "slideshow": {
     "slide_type": "subslide"
    }
   },
   "source": [
    "**RK2:**\n",
    "\n",
    "* $\\oplus$ Easily(sh) extended to RK4\n",
    "* $\\oplus$ Possible to use adaptive time step (this week)\n",
    "* $\\ominus$ time-reversible\n",
    "* $\\ominus$ accuracy\n",
    "\n",
    "**RK4:**\n",
    "\n",
    "* $\\oplus$ accuracy\n",
    "* $\\oplus$ Possible to use adaptive time step (this week)\n",
    "* $\\ominus$ time-reversible"
   ]
  },
  {
   "cell_type": "markdown",
   "metadata": {
    "cell_style": "split",
    "slideshow": {
     "slide_type": "subslide"
    }
   },
   "source": [
    "**Leapfrog:**\n",
    "\n",
    "* $\\oplus$ time-reversible\n",
    "* $\\oplus$ basis for higher-order methods (Bulirsch-Stoer, this week)\n",
    "* $\\ominus$ accuracy\n",
    "* $\\ominus$ time step has to be constant (not exactly true, as we will see)."
   ]
  },
  {
   "cell_type": "markdown",
   "metadata": {
    "slideshow": {
     "slide_type": "slide"
    }
   },
   "source": [
    "## Error of RK4\n",
    "\n",
    "* Very accurate method: error is $\\epsilon = ch^5$ at each time step $h$, $c$ constant (order $h^4$ globally).\n",
    "* Error after 2 time steps: $\\approx 2ch^5$.\n",
    "* Error after 1 time step of $2h$:$~ \\approx c(2h)^5 = 32 ch^5 \\gg 2 ch^5$\n",
    "* The difference is $(32-2)ch^5=30 ch^5 = 30\\epsilon$.\n",
    "* To estimate error: run ODE solver twice with $h$ (to get $x_1$), once with $2h$ (to get $x_2$), divide difference by 30.\n",
    "$$\\epsilon = ch^5 = \\frac{1}{30}(x_1 - x_2).$$"
   ]
  },
  {
   "cell_type": "markdown",
   "metadata": {
    "cell_style": "split",
    "slideshow": {
     "slide_type": "subslide"
    }
   },
   "source": [
    "![Newman fig. 8.7](fig8-7.png)"
   ]
  },
  {
   "cell_type": "markdown",
   "metadata": {
    "slideshow": {
     "slide_type": "subslide"
    }
   },
   "source": [
    "## Adaptive time stepping\n",
    "\n",
    "* Suppose target error is $\\delta$ *per unit time* (physical time, not step). \n",
    "* If\n",
    "$$\\rho = \\frac{h\\delta}{\\epsilon} = \\frac{30h\\delta}{|x_1 - x_2|} = \\frac{30 \\delta}{ch^4} > 1,$$\n",
    "then $h$ is too small (as in, could be bigger, saving computational resources while still reaching target accuracy) and can be adjusted to $h' = h\\rho^{1/4}$ to get $\\rho'=1$.\n",
    "    * Still achieves target error, which is $h' \\delta$ for step of size $h'$.\n",
    "    * Saves calculation time."
   ]
  },
  {
   "cell_type": "markdown",
   "metadata": {
    "slideshow": {
     "slide_type": "subslide"
    }
   },
   "source": [
    "* If $\\rho < 1$, the time step is too large and needs to be adjusted down by the same factor.\n",
    "    * We also need to repeat our calculation to get the desired accuracy.\n",
    "    * This will guarantee meeting error target.\n",
    "* We test if we need to adjust by performing the calculation twice (we retrieve $x_1$ and $x_2$), testing if we met the target, and adjusting $h$.\n",
    "* Overall, despite extra work (up to 3 RK4 steps per time step), program often faster because resolution focused where it's needed."
   ]
  },
  {
   "cell_type": "markdown",
   "metadata": {
    "slideshow": {
     "slide_type": "subslide"
    }
   },
   "source": [
    "![Newman 8.6](fig8-6.png)"
   ]
  },
  {
   "cell_type": "markdown",
   "metadata": {
    "slideshow": {
     "slide_type": "slide"
    }
   },
   "source": [
    "# From Leapfrog to Bulirsch-Stoer\n",
    "\n",
    "![Newman's fig. 8.9, focus on leapfrog](Leapfrog.png)"
   ]
  },
  {
   "cell_type": "markdown",
   "metadata": {
    "slideshow": {
     "slide_type": "subslide"
    }
   },
   "source": [
    "## Leapfrog error\n",
    "\n",
    "* Leapfrog is timestep-reversible.\n",
    "* $\\Rightarrow$ error $\\epsilon$ is an **odd** function of $h$:\n",
    "$$\\epsilon(-h) = -\\epsilon(h)$$\n",
    "$\\Rightarrow$ Taylor expansion is made of **odd** powers of $h$,\n",
    "    $$\\epsilon(h)  = c_3 h^3 + c_5 h^5 + \\dots$$\n",
    "* $\\Rightarrow$ cumulative error is **even** in $h$.\n",
    "* Each improvement we apply $\\Rightarrow$ we can get two orders of accuracy, if we play it right.\n",
    "* But first, we have to eliminate all even powers in $\\epsilon$ due to first 1/2 step."
   ]
  },
  {
   "cell_type": "markdown",
   "metadata": {
    "slideshow": {
     "slide_type": "subslide"
    }
   },
   "source": [
    "## Modified mid-point (MMP) method\n",
    "\n",
    "How to eliminate even powers of $\\epsilon$ during the first 1/2 step?\n",
    "* Integration from $t$ to $t+H$, with $n+1$ time steps:\n",
    "\\begin{align*}\n",
    "x_0 & = x(t) \\\\\n",
    "x_{1/2} & = x_0 + hf(x_0, t)/2\\quad \\text{(Initial Euler 1/2-step $\\Rightarrow$ lots of even powers in $\\epsilon$!)}\\\\\n",
    "x_1 & = x_0 + hf(x_{1/2}, t + h/2) \\\\\n",
    "x_{3/2} & = x_{1/2} + hf(x_1, t+h) \\\\\n",
    "        & \\vdots\n",
    "\\end{align*}\n",
    "* ... and keep going until you reach the end.\n",
    "* So far, this is identical to Leapfrog."
   ]
  },
  {
   "cell_type": "markdown",
   "metadata": {
    "slideshow": {
     "slide_type": "subslide"
    }
   },
   "source": [
    "* Then, do **both** the whole integer **and** the forward Euler 1/2-step.\n",
    "    \\begin{align*}\n",
    "    x_{n-1/2} & = x_{n-3/2} + hf(x_{n-1}, t + H - h),\\\\\n",
    "    x_{n} & = x_{n-1} + hf(x_{n-1/2}, t+H-h/2)\\approx x(t+H) \\\\\n",
    "    x_n ' & = x_{n-1/2} + hf(x_n, t+H)\\approx x(t+H)\n",
    "    \\end{align*}\n",
    "    \n",
    "* Now do the following adjustment:\n",
    "    $$x(t+H)_{final} = \\frac{x_n + x_n'}2$$ \n",
    "    ... and you have canceled the even powers (MMP method).\n",
    "\n",
    "This is not a trivial result (cf. Gragg 1965 for proof; https://doi.org/10.1137/0702030 PDF posted on Quercus if you're curious)."
   ]
  },
  {
   "cell_type": "markdown",
   "metadata": {
    "slideshow": {
     "slide_type": "subslide"
    }
   },
   "source": [
    "## Bulirsch-Stoer method\n",
    "\n",
    "MMP method rarely used by itself, but is the basis for the powerful Bulirsch-Stoer method:\n",
    " * Take 1 single MMP step of size $h_1 = H$ to get estimate of $$x(t+H) = R_{1, 1}.$$ ($R$ stands for \"Richardson extrapolation\")\n",
    " * Now take 2 MMP steps of size $h_2 = H/2$ to get second estimate of $$x(t+H) = R_{2,1}.$$"
   ]
  },
  {
   "cell_type": "markdown",
   "metadata": {
    "slideshow": {
     "slide_type": "subslide"
    }
   },
   "source": [
    "* Since we know the MMP has 2nd order and even total error, we can write both of these estimates as\n",
    "\\begin{align*}\n",
    "x(t+H) & = R_{1,1} + c_1 h_1^2 + O(h_1^4)\\quad \\text{and}\\\\\n",
    "x(t+H) & = R_{2,1} + c_1 h_2^2 + O(h_2^4).\n",
    "\\end{align*}\n",
    "\n",
    "* Using the relationship between the step sizes: $h_1 = 2 h_2$, we can equate these expressions to get\n",
    "$$R_{1,1} + 4 c_1 h_2^2 + O(h_2^4) = R_{2,1} + c_1 h_2^2 + O(h_2^4)$$\n",
    "$$\\Rightarrow\\ c_1 h_2^2 = \\frac{1}{3}(R_{2,1} - R_{1,1}) + O(h_2^4).$$\n",
    "* If we plug this back in to the expression for $x(t+H)$ above we get a new estimate called $R_{2,2}$:\n",
    "    $$x(t+H) \\approx R_{2,2}  + \\boxed{O(h^4_2)}$$"
   ]
  },
  {
   "cell_type": "markdown",
   "metadata": {
    "slideshow": {
     "slide_type": "subslide"
    }
   },
   "source": [
    "$$x(t+H) = \\underbrace{R_{2,1} + \\frac{1}{3}(R_{2,1} - R_{1,1})}_{R_{2,2}} + \\boxed{O(h^4_2)}.$$\n",
    "* 2 different grid spacings ($H$ and $H/2$) $\\to$ expression for the leading error term $\\to$ replace it with our estimates for these grid spacings, i.e., $R_{1,1}$ and $R_{2,1}$.\n",
    "* We have reduced the error in our estimate by 2 orders! *(which was possible because the errors were even)*"
   ]
  },
  {
   "cell_type": "markdown",
   "metadata": {
    "slideshow": {
     "slide_type": "subslide"
    }
   },
   "source": [
    "**Why stop there?**\n",
    "\n",
    "* Take another grid spacing, to estimate the **new** leading order error term and then replace by that.\n",
    "* E.g., with $h_3=H/3$, MMP method yields $$x(t+H) = R_{3,1} + c_1 h_3^2 + O(h_3^4).$$"
   ]
  },
  {
   "cell_type": "markdown",
   "metadata": {
    "slideshow": {
     "slide_type": "subslide"
    }
   },
   "source": [
    "* E.g., with $h_3=H/3$, compare with estimate with $h_2 = H/2 =  3h_3/2$: \n",
    "\\begin{align*}\n",
    "x(t+H) & = R_{3,1} + c_1 h_3^2 + O(h_3^4),\\\\\n",
    "       & = R_{2,1} + c_1\\left(\\frac32 h_3\\right)^2 + O(h_3^4),\\\\\n",
    "\\Rightarrow\\ & R_{3,1} + c_1 h_3^2 + O(h_3^4) = R_{2,1} + c_1\\frac94 h_3^2 + O(h_3^4)\\\\\n",
    "\\Rightarrow\\ & c_1 h_3^2 = \\frac45 (R_{3,1} - R_{2,1}) + O(h_3^4)\n",
    "\\end{align*}\n",
    "* Now plugging this into our expression for $x(t+H)$ and calling it $R_{3,2}$,\n",
    "$$x(t+H) \\approx R_{3,2} + c_2 h_3^4 +  \\boxed{O(h_3^6)},$$\n",
    "$$\\text{where}\\ R_{3,2} = R_{3,1} + \\frac45 (R_{3,1} - R_{2,1}), $$"
   ]
  },
  {
   "cell_type": "markdown",
   "metadata": {
    "slideshow": {
     "slide_type": "subslide"
    }
   },
   "source": [
    "* Equating $R_{3,2}$ and $R_{2,2}$ allows to find $c_2$:\n",
    "\\begin{align*}\n",
    "    x(t+H) & \\approx R_{2,2} + c_2 h^4_2 + \\boxed{O(h^6_2)} \\\\\n",
    "           & \\approx R_{3,2} + c_2 h_3^4 + \\boxed{O(h_3^6)}\\\\\n",
    "h_3 = 2 h_2/3 & \\Rightarrow c_2 h_3^4 = \\frac{16}{65}(R_{3,2} - R_{2,2})\n",
    "\\end{align*}\n",
    "\n",
    "* Plugging this back in and calling the new result $R_{3,3}$ yields\n",
    "$$x(t+H) \\approx R_{3,3} + O(h_3^6),$$\n",
    "$$\\text{where}\\ R_{3,3} = R_{3,2} + \\frac{16}{65}(R_{3,2} - R_{2,2}),$$\n",
    "\n",
    "* and so on."
   ]
  },
  {
   "cell_type": "markdown",
   "metadata": {
    "slideshow": {
     "slide_type": "subslide"
    }
   },
   "source": [
    "* The power in this method is that you keep cancelling 2 powers in the error for every new grid spacing you consider.\n",
    "* Can continue the refinement until you reach the error tolerance you want.\n",
    "* Summary of method:\n",
    "    * Take $h=H$, set $n=1$ and use MMP to find $x(t+H)$,\n",
    "    * Continue to refine grid to find new estimates and error estimates.\n",
    "    * When error is acceptable, stop.\n",
    "\n",
    "* The iteration can be expressed:\n",
    "$$ x(t+H) = R_{n, m+1} + O(h_n^{2m+2}),\\qquad\\text{where}$$\n",
    "$$ R_{n, m+1} = R_{n,m} + \\frac{R_{n,m} - R_{n-1, m}}{[n/(n-1)]^{2m} - 1}\\quad \\text{and}\\quad h_n = \\left(\\frac{n-1}{n}\\right)h_{n-1}. $$"
   ]
  },
  {
   "cell_type": "markdown",
   "metadata": {
    "slideshow": {
     "slide_type": "subslide"
    }
   },
   "source": [
    "Look at `bulirsch.py` from textbook. for solving nonlinear pendulum,\n",
    "$$\\ode{\\theta}{t} = \\omega, \\qquad \\ode{\\omega}{t} = -\\frac{g}{\\ell}\\sin\\theta.$$\n",
    "\n",
    "Extrapolation table:\n",
    "\\begin{align*}\n",
    "n = 1:\\ & R_{1,1}\\hspace{-20pt} & & & & & & \\\\\n",
    "       & & \\searrow & & & & & \\\\\n",
    "n = 2:\\ & R_{2,1}\\hspace{-20pt} & \\to & R_{2,2}\\hspace{-20pt} & & & & \\\\\n",
    "       & & \\searrow & & \\searrow & & & \\\\\n",
    "n = 3:\\ & R_{3,1}\\hspace{-20pt} & \\to & R_{3,2}\\hspace{-20pt} & \\to & R_{3,3}\\hspace{-20pt} & & \\\\\n",
    "       & & \\searrow & & \\searrow & & \\searrow & \\\\\n",
    "n = 4:\\ & \\underbrace{R_{4,1}}_{MMP}\\hspace{-20pt} & \\to & R_{4,2}\\hspace{-20pt} & \\to & R_{4,3}\\hspace{-20pt} & \\to & R_{4,4}\\hspace{-20pt}\n",
    "\\end{align*}"
   ]
  },
  {
   "cell_type": "code",
   "execution_count": 8,
   "metadata": {
    "slideshow": {
     "slide_type": "subslide"
    }
   },
   "outputs": [],
   "source": [
    "# adapted from bulirsch.py from Newman \n",
    "from math import sin, pi\n",
    "from numpy import empty, array, arange\n",
    "from pylab import plot, show, xlabel, ylabel, figure, grid\n",
    "\n",
    "g = 9.81\n",
    "ell = 0.1\n",
    "theta0 = 179*pi/180\n",
    "a = 0.0\n",
    "b = 10.0\n",
    "N = 100  # Number of \"big steps\"\n",
    "H = (b-a)/N  # Size of \"big steps\"\n",
    "delta = 1e-8  # Required position accuracy per unit time\n",
    "\n",
    "def f(r):\n",
    "    theta = r[0]\n",
    "    omega = r[1]\n",
    "    ftheta = omega\n",
    "    fomega = -(g/ell)*sin(theta)\n",
    "    return array([ftheta, fomega], float)\n",
    "\n",
    "\n",
    "tpoints = arange(a, b, H)\n",
    "thetapoints = []\n",
    "r = array([theta0, 0.0], float)"
   ]
  },
  {
   "cell_type": "code",
   "execution_count": 9,
   "metadata": {
    "slideshow": {
     "slide_type": "subslide"
    }
   },
   "outputs": [],
   "source": [
    "for t in tpoints: # Do the \"big steps\" of size H\n",
    "    thetapoints.append(r[0])\n",
    "    n = 1     # Do one modified midpoint step to get things started\n",
    "    r1 = r + 0.5*H*f(r)\n",
    "    r2 = r + H*f(r1)\n",
    "    # array R1: row1 of extrapolation table, which contains the single MMP estimate for end of interval\n",
    "    R1 = empty([1, 2], float)\n",
    "    R1[0] = 0.5*(r1 + r2 + 0.5*H*f(r2))\n",
    "    error = 2*H*delta # Now increase n until the required accuracy is reached\n",
    "    while error > H*delta:\n",
    "        n += 1\n",
    "        h = H/n\n",
    "        r1 = r + 0.5*h*f(r) # MMP\n",
    "        r2 = r + h*f(r1)\n",
    "        for i in range(n-1):\n",
    "            r1 += h*f(r2)\n",
    "            r2 += h*f(r1)\n",
    "        R2 = R1*1 # Extrapolation estimates: Arrays R1, R2 hold the two most recent lines of the table\n",
    "        R1 = empty([n, 2], float)\n",
    "        R1[0] = 0.5*(r1 + r2 + 0.5*h*f(r2))\n",
    "        for m in range(1, n):\n",
    "            epsilon = (R1[m-1]-R2[m-1])/((n/(n-1))**(2*m)-1)\n",
    "            R1[m] = R1[m-1] + epsilon\n",
    "        error = abs(epsilon[0])  # epsilon[0] is theta error\n",
    "    r = R1[n-1] # Set r to our most accurate estimate, before giong to next big step"
   ]
  },
  {
   "cell_type": "code",
   "execution_count": 12,
   "metadata": {
    "slideshow": {
     "slide_type": "subslide"
    }
   },
   "outputs": [
    {
     "data": {
      "image/png": "[encoded data removed]",
      "text/plain": [
       "<Figure size 432x288 with 1 Axes>"
      ]
     },
     "metadata": {
      "needs_background": "light"
     },
     "output_type": "display_data"
    }
   ],
   "source": [
    "# Plot the results\n",
    "# plot(tpoints, thetapoints)\n",
    "plot(tpoints, thetapoints, \".\")\n",
    "xlabel('time (s)')\n",
    "ylabel(r'$\\theta$ (rad)')\n",
    "grid()\n",
    "show()"
   ]
  },
  {
   "cell_type": "markdown",
   "metadata": {
    "slideshow": {
     "slide_type": "subslide"
    }
   },
   "source": [
    "* Notes: This only calculates really accurate values for $x(t+H),$ not the region in between.\n",
    "* Common practice (helps with efficiency/speed):\n",
    "    * If your solution doesn't reach your tolerance level in some `nmax` steps (usually `nmax` $\\sim 8-10$), half your interval and redo in smaller $H$ regions.\n",
    "    * Iterate until your regions are small enough that you reach the tolerance level in `nmax` steps: ``adaptive\" method!"
   ]
  },
  {
   "cell_type": "markdown",
   "metadata": {
    "slideshow": {
     "slide_type": "slide"
    }
   },
   "source": [
    "# Boundary Value Problems\n",
    "\n",
    "## Shooting method\n",
    "* Suppose we wanted to choose an initial velocity $v_0$ for a projectile to land after $t_L = 10$ s.\n",
    "* $x(v_0, t)$ is a nonlinear function of $v_0$, and finding $x(v_0, t=t_L)$ can be done using root finding method (binary search, secant...)\n",
    "* **Shooting method:** integrate the equations and adjust $v_0$ until you locate root."
   ]
  },
  {
   "cell_type": "markdown",
   "metadata": {
    "cell_style": "split",
    "slideshow": {
     "slide_type": "subslide"
    }
   },
   "source": [
    "\n",
    "\n",
    "![Newman's fig. 8.11](fig8-11.png)"
   ]
  },
  {
   "cell_type": "code",
   "execution_count": 15,
   "metadata": {
    "slideshow": {
     "slide_type": "subslide"
    }
   },
   "outputs": [],
   "source": [
    "# Based on Newman's throw.py\n",
    "from numpy import array, arange\n",
    "\n",
    "g = 9.81  # Acceleration due to gravity\n",
    "a = 0.0  # Initial time\n",
    "b = 10.0  # Final time\n",
    "N = 1000  # Number of Runge-Kutta steps\n",
    "h = (b-a)/N  # Size of Runge-Kutta steps\n",
    "target = 1e-10  # Target accuracy for binary search\n",
    "\n",
    "def f(r): # for Runge-Kutta calculation\n",
    "    # [0] = v_x , [1] = a_x\n",
    "    return array([r[1], -g], float)\n",
    "\n",
    "def height(v): # to solve the equation and calculate final height\n",
    "    # v = initial v_x, r[0] = x, r[1] = v_x\n",
    "    r = array([0.0, v], float)\n",
    "    for t in arange(a, b, h):\n",
    "        k1 = h*f(r)\n",
    "        k2 = h*f(r+0.5*k1)\n",
    "        k3 = h*f(r+0.5*k2)\n",
    "        k4 = h*f(r+k3)\n",
    "        r += (k1+2*k2+2*k3+k4)/6\n",
    "    return r[0]"
   ]
  },
  {
   "cell_type": "code",
   "execution_count": 16,
   "metadata": {
    "slideshow": {
     "slide_type": "subslide"
    }
   },
   "outputs": [
    {
     "name": "stdout",
     "output_type": "stream",
     "text": [
      "The required initial velocity is 49.04999999999815 m/s\n"
     ]
    }
   ],
   "source": [
    "# Main program performs a binary search\n",
    "v1 = 0.01\n",
    "v2 = 1000.0\n",
    "h1 = height(v1)\n",
    "h2 = height(v2)\n",
    "\n",
    "while abs(h2-h1) > target:\n",
    "    vp = (v1+v2)/2\n",
    "    hp = height(vp)\n",
    "    if h1*hp > 0:\n",
    "        v1 = vp\n",
    "        h1 = hp\n",
    "    else:\n",
    "        v2 = vp\n",
    "        h2 = hp\n",
    "\n",
    "v = (v1+v2)/2\n",
    "print(\"The required initial velocity is\", v, \"m/s\")"
   ]
  },
  {
   "cell_type": "markdown",
   "metadata": {
    "cell_style": "split",
    "slideshow": {
     "slide_type": "subslide"
    }
   },
   "source": [
    "## Eigenvalue problems\n",
    "\n",
    "$$-\\frac{\\hbar}{2 m}\\oden2{\\psi}{x} + V(x)\\psi = E\\psi,$$\n",
    "$$\\psi(x=0) = \\psi(x=L) = 0.$$\n",
    "\n",
    "* Shooting method does not work for finding wavefunctions that satisfy two boundary conditions, as in QM square well, except for valid eigenvalues $E$.\n",
    "* So for these problems, $E$ is the parameter that must be varied instead of the leftmost slope of wavefunction."
   ]
  },
  {
   "cell_type": "markdown",
   "metadata": {
    "cell_style": "split",
    "slideshow": {
     "slide_type": "subslide"
    }
   },
   "source": [
    "![Newman's fig. 8.12](fig8-12.png)"
   ]
  },
  {
   "cell_type": "markdown",
   "metadata": {
    "slideshow": {
     "slide_type": "slide"
    }
   },
   "source": [
    "# A word on stability\n",
    "\n",
    "* We have focused on accuracy and speed in investigating our solutions to ODEs.\n",
    "* But stability is also important!\n",
    "* The stability of solutions tells us how fast initially close solutions diverge from each other."
   ]
  },
  {
   "cell_type": "markdown",
   "metadata": {
    "slideshow": {
     "slide_type": "subslide"
    }
   },
   "source": [
    "* Some systems are inherently unstable and so will always be challenging to simulate. Physical stability or instability of a system can be determined from small perturbations to a solution of the ODE.\n",
    "* But even for physically stable systems, numerical methods can be unstable and give truncation  errors that grow.\n",
    "* Example: $y'(t) = -2.3y(t), y(t=0) = 1$  is a stable system (tends to a finite number). \n",
    "   * Solution $y(t) = \\exp (-2.3 t): y \\rightarrow 0$ as $t \\rightarrow \\infty$ \n",
    "   * Forward Euler stable for $h=0.7$ but unstable for $h=1$."
   ]
  },
  {
   "cell_type": "code",
   "execution_count": 46,
   "metadata": {
    "slideshow": {
     "slide_type": "subslide"
    }
   },
   "outputs": [],
   "source": [
    "import matplotlib.pyplot as plt\n",
    "import numpy as np\n",
    "\n",
    "y0 = 1.\n",
    "a = 0.\n",
    "b = 20.\n",
    "h = 0.7 # vary this\n",
    "N = int((b-a)/h)\n",
    "y = np.empty(N)\n",
    "time = np.zeros(N)\n",
    "\n",
    "y[0] = y0\n",
    "for k in range(1, N):\n",
    "    time[k] = k*h\n",
    "    y[k] = y[k-1] + h*(-2.3*y[k-1])  # Euler time step\n",
    "\n",
    "t_a = np.linspace(a,b,10000) \n",
    "y_a = np.exp(-2.3*t_a)  # analytical solution for plotting"
   ]
  },
  {
   "cell_type": "code",
   "execution_count": 47,
   "metadata": {
    "slideshow": {
     "slide_type": "subslide"
    }
   },
   "outputs": [
    {
     "data": {
      "text/plain": [
       "<matplotlib.legend.Legend at 0x7efc8dca2c10>"
      ]
     },
     "execution_count": 47,
     "metadata": {},
     "output_type": "execute_result"
    },
    {
     "data": {
      "image/png": "[encoded data removed]",
      "text/plain": [
       "<Figure size 432x288 with 1 Axes>"
      ]
     },
     "metadata": {
      "needs_background": "light"
     },
     "output_type": "display_data"
    }
   ],
   "source": [
    "plt.plot(time, y, label='Euler, h={0:.1f}'.format(h))\n",
    "plt.plot(t_a, y_a, label='Analytical')\n",
    "plt.xlabel('t')\n",
    "plt.ylabel('y')\n",
    "plt.grid()\n",
    "plt.legend(loc='upper center')"
   ]
  },
  {
   "cell_type": "markdown",
   "metadata": {
    "slideshow": {
     "slide_type": "subslide"
    }
   },
   "source": [
    "Why is forward Euler unstable in some cases?\n",
    "* Explicitly write the solution: for each time step,\n",
    "$$ y_{k+1} = y_{k} + h_k \\lambda y_k \\qquad \\text{(here, $\\lambda=-2.3$)}$$\n",
    "* And for $k$ time steps,\n",
    "$$ y_k = (1+h_k\\lambda)^ky_0.$$\n",
    "* For the method to be stable, the magnitude of growth factor\n",
    "$$|1 + h_k \\lambda|\\leq 1 \\quad\\Rightarrow\\quad \\lambda < 0,\\ h_k \\leq |2/\\lambda|.$$\n",
    "\n",
    "We will investigate more of this in the coming labs."
   ]
  },
  {
   "cell_type": "markdown",
   "metadata": {
    "slideshow": {
     "slide_type": "slide"
    }
   },
   "source": [
    "# Summary\n",
    "\n",
    "* Adaptive RK4: do two RK4 steps, compute error, adjust step size.\n",
    "    * More operations \"per step\", but gains can be significant if function varies in concentrated regions.\n",
    "* MMP: a way to make the error even globally (not trivial).\n",
    "* Bulirsch-Stoer: use MMP to kill even orders of error, one by one.\n",
    "\n",
    "* BVPs shooting method: combine ODE integration with root finding\n",
    "    * eigenvalue problems: it's the eigenvalue, not the initial or boundary value, that we try varying."
   ]
  }
 ],
 "metadata": {
  "celltoolbar": "Slideshow",
  "kernelspec": {
   "display_name": "Python 3 (ipykernel)",
   "language": "python",
   "name": "python3"
  },
  "language_info": {
   "codemirror_mode": {
    "name": "ipython",
    "version": 3
   },
   "file_extension": ".py",
   "mimetype": "text/x-python",
   "name": "python",
   "nbconvert_exporter": "python",
   "pygments_lexer": "ipython3",
   "version": "3.9.7"
  }
 },
 "nbformat": 4,
 "nbformat_minor": 2
}
