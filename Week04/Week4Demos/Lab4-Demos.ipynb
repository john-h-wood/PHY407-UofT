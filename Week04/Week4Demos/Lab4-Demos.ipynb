{
 "cells": [
  {
   "cell_type": "markdown",
   "id": "f3b72951",
   "metadata": {},
   "source": [
    "## Lab 4, Optional (3d)\n",
    "Solving $5e^{-x} +x - 5 = 0$ "
   ]
  },
  {
   "cell_type": "code",
   "execution_count": 39,
   "id": "ad464408",
   "metadata": {},
   "outputs": [],
   "source": [
    "import numpy as np"
   ]
  },
  {
   "cell_type": "code",
   "execution_count": 40,
   "id": "2af0ffc1",
   "metadata": {},
   "outputs": [],
   "source": [
    "def g(x):\n",
    "    return 5*(1 - np.exp(-x))\n",
    "\n",
    "def f(x): return g(x) - x"
   ]
  },
  {
   "cell_type": "code",
   "execution_count": 44,
   "id": "48305d74",
   "metadata": {},
   "outputs": [],
   "source": [
    "def df(x): return -1 + 5*np.exp(-x)"
   ]
  },
  {
   "cell_type": "code",
   "execution_count": 42,
   "id": "24e10cc9",
   "metadata": {},
   "outputs": [],
   "source": [
    "epsilon = 1e-6  # accuracy tolerance"
   ]
  },
  {
   "cell_type": "code",
   "execution_count": 33,
   "id": "c3087fa1",
   "metadata": {},
   "outputs": [
    {
     "name": "stdout",
     "output_type": "stream",
     "text": [
      "Binary search: x = 4.965115, converged in 30 iterations\n"
     ]
    }
   ],
   "source": [
    "#Binary Search\n",
    "x1 = 0.1  # lower bracket\n",
    "x2 = 1000.0  # upper bracket\n",
    "\n",
    "if f(x1)*f(x2) > 0.:  # I will assume we will never find the root right away\n",
    "    raise NameError('Fct at brackets is of the same sign. Change brackets.')\n",
    "\n",
    "i = 0  # iterations counter\n",
    "while abs(x2-x1) > epsilon:\n",
    "    i += 1\n",
    "    xm = .5*(x1 + x2)\n",
    "    if f(xm)*f(x1) > 0.:  # then the middle point is on same side as x1\n",
    "        x1 = xm  # bring it closer to that side\n",
    "    else:\n",
    "        x2 = xm\n",
    "\n",
    "print(\"Binary search: x = {0:.6f}, converged in {1} iterations\"\n",
    "      .format(0.5*(x1+x2), i))"
   ]
  },
  {
   "cell_type": "code",
   "execution_count": 37,
   "id": "05ac040c",
   "metadata": {},
   "outputs": [
    {
     "name": "stdout",
     "output_type": "stream",
     "text": [
      "Relaxation method: x = 4.965114, converged in 6 iterations\n"
     ]
    }
   ],
   "source": [
    "#Relaxation method\n",
    "x1 = 110\n",
    "x2 = 100\n",
    "i = 0\n",
    "while abs(x2-x1) > epsilon:\n",
    "    i += 1\n",
    "    x1 = x2\n",
    "    x2 = g(x1)\n",
    "    \n",
    "print(\"Relaxation method: x = {0:.6f}, converged in {1} iterations\".format(x2, i))"
   ]
  },
  {
   "cell_type": "code",
   "execution_count": 45,
   "id": "eea9f72f",
   "metadata": {},
   "outputs": [
    {
     "name": "stdout",
     "output_type": "stream",
     "text": [
      "Newton's method: x = 4.965114, converged in 4 iterations\n"
     ]
    }
   ],
   "source": [
    "#Newton's Method\n",
    "x1 = 1.  # is whatever at this point, just not too close to the guess\n",
    "x2 = 10.  # initial guess\n",
    "i = 0  # iterations counter\n",
    "while abs(x2 - x1) > epsilon:\n",
    "    i += 1\n",
    "    x1 = x2\n",
    "    x2 = x1 - f(x1)/df(x1)\n",
    "\n",
    "print(\"Newton's method: x = {0:.6f}, converged in {1} iterations\".format(\n",
    "    x2, i))"
   ]
  },
  {
   "cell_type": "code",
   "execution_count": 46,
   "id": "12f93555",
   "metadata": {},
   "outputs": [
    {
     "name": "stdout",
     "output_type": "stream",
     "text": [
      "Secant method: x = 4.965114, converged in 8 iterations\n"
     ]
    }
   ],
   "source": [
    "#Secant Method\n",
    "x1 = 0.1  # lower bracket\n",
    "x2 = 10.  # upper bracket\n",
    "x3 = x2 - f(x2)*(x2-x1)/(f(x2) - f(x1))  # first iteration\n",
    "\n",
    "i = 1  # iterations counter; I start at 1 because we've done it once before\n",
    "while abs(x3 - x2) > epsilon:\n",
    "    i += 1\n",
    "    x1 = x2\n",
    "    x2 = x3\n",
    "    x3 = x2 - f(x2)*(x2-x1)/(f(x2) - f(x1))\n",
    "\n",
    "\n",
    "print(\"Secant method: x = {0:.6f}, converged in {1} iterations\".format(\n",
    "    x2, i))"
   ]
  },
  {
   "cell_type": "markdown",
   "id": "e3d4efb4",
   "metadata": {},
   "source": [
    "## Fun with Circuits"
   ]
  },
  {
   "cell_type": "markdown",
   "id": "c1a28903",
   "metadata": {},
   "source": [
    "![Newman's Exercise 6.5](rescap.png)"
   ]
  },
  {
   "cell_type": "markdown",
   "id": "c6c82a27",
   "metadata": {},
   "source": [
    "The voltage $V_+$ is time-varying and sinusoidal of the form $V_+ = x_+ \\exp(i \\omega t)$ with $x_+$ a constant.\n",
    "The resistors in the circuit can be treated using Ohm's law.\n",
    "For the capacitors the charge $Q$ and voltage $V$ across them are related by the capacitor law $Q=CV$, where $C$ is the capacitance.\n",
    "Differentiating both sides of this expression gives the current $I$ flowing in on one side of the capacitor and out on the other:\n",
    "\\begin{equation}\n",
    "  I = \\frac{dQ}{dt} = C \\frac{dV}{dt}.\n",
    "\\end{equation}\n",
    "Now assume the voltages at the points labeled 1, 2, and 3 are of the form $V_1 = x_1 \\exp(i \\omega t)$, $V_2 = x_2 \\exp(i \\omega t)$, and $V_3 = x_3 \\exp(i \\omega t)$.\n",
    "If you add up the currents using Kirchoff's law that at a junction the sum of the currents in equals the sum of the currents out, you can find that the constants $x_1$,\n",
    "$x_2$, and $x_3$ satisfy the equations\n",
    "\\begin{align*}\n",
    "  \\left( {1\\over R_1} + {1\\over R_4} + i\\omega C_1 \\right) x_1 - i\\omega C_1 x_2\n",
    "  & = {x_+\\over R_1}\\,, \\\\\n",
    "  - i\\omega C_1 x_1 + \\left( {1\\over R_2} + {1\\over R_5} + i\\omega C_1 + i\\omega C_2 \\right) x_2 - i\\omega C_2 x_3\n",
    "                                                                                           & = {x_+\\over R_2}\\,, \\\\\n",
    "  - i\\omega C_2 x_2 + \\left( {1\\over R_3} + {1\\over R_6} + i\\omega C_2 \\right) x_3\n",
    "  & = {x_+\\over R_3}\\,.\n",
    "\\end{align*}\n",
    "This is a linear system of equations for three complex numbers, $x_1$, $x_2$, and $x_3$.\n",
    "\n",
    "To extend the problem further, we will change this $RC$ circuit with resistance and capacitance to an $RLC$ circuit with resistance, capacitance, and magnetic inductance.\n",
    "Suppose we swap resistor $R_6$ above with an inductor $L$.\n",
    "The impact on the equations above turns out to be to replace $R_6$ with a complex impedance $i \\omega L$ (this is because the voltage drop across an inductor is given by $L \\frac{dI}{dt}$, where $I$ is the current).\n",
    "We expect that this will make this part of the circuit less resistive and therefore less dissipative.\n",
    "$RLC$ circuits are often set up as resonant circuits."
   ]
  },
  {
   "cell_type": "markdown",
   "id": "cc520b62",
   "metadata": {},
   "source": [
    "Write a program to solve for $x_1$, $x_2$, and $x_3$ , with\n",
    "    \\begin{align*}\n",
    "      R_1 &= R_3 = R_5 = 1\\,\\mathrm{k}\\Omega, \\\\\n",
    "      R_2 &= R_4 = R_6 = 2\\,\\mathrm{k}\\Omega, \\\\\n",
    "      C_1 &= 1\\,\\mu\\mathrm{F},\\qquad C_2 = 0.5\\,\\mu\\mathrm{F}, \\\\\n",
    "      x_+ &= 3\\,\\mathrm{V},\\qquad \\omega = 1000~\\text{rad/s}.\n",
    "    \\end{align*}\n",
    "    Use your partial pivoting routine from Lab 4.\n",
    "    \n",
    "Notice that the matrix for this problem has complex elements. You will need to define a complex array to hold it, but your routine should be able to work with real or complex arguments.\n",
    "\n",
    "Using your solution, have your program calculate and print the amplitudes of the three voltages $|V_1|$, $|V_2|$, and $|V_3|$ and their phases (i.e. the phases of the coefficients $x_1, x_2, x_3$) at $t=0$ in degrees.\n",
    "\n",
    "Hint: the built-in abs() will compute the magnitude, and numpy.angle() will compute the phase of a complex number."
   ]
  },
  {
   "cell_type": "code",
   "execution_count": 18,
   "id": "d97bec8f",
   "metadata": {},
   "outputs": [],
   "source": [
    "from cmath import polar, phase\n",
    "import matplotlib.pyplot as plt\n",
    "import SolveLinear_sol as sl"
   ]
  },
  {
   "cell_type": "code",
   "execution_count": 19,
   "id": "20b7e468",
   "metadata": {},
   "outputs": [],
   "source": [
    "def CircuitMatrix(element, R_, C_):\n",
    "    \"\"\" I define the matrix A as a function of the one element we turn from a\n",
    "    resistor to an inductor\n",
    "    IN: element [complex]: the resistor or inductor\n",
    "    R_ [float]: list of resistors R1 to R5\n",
    "    C_ [complex]: list of capacitances C1 and C2\n",
    "    \"\"\"\n",
    "    A = np.empty((3, 3), complex)\n",
    "\n",
    "    # 1st line of matrix\n",
    "    A[0, 0] = 1./R[1] + 1./R[4] + C[1]\n",
    "    A[0, 1] = -C[1]\n",
    "    A[0, 2] = 0.\n",
    "\n",
    "    # 2nd line of matrix\n",
    "    A[1, 0] = -C[1]\n",
    "    A[1, 1] = 1./R[2] + 1./R[5] + C[1] + C[2]\n",
    "    A[1, 2] = -C[2]\n",
    "\n",
    "    # 3rd line of matrix\n",
    "    A[2, 0] = 0.\n",
    "    A[2, 1] = -C[2]\n",
    "    A[2, 2] = 1./R[3] + 1./element + C[2]\n",
    "\n",
    "    return A"
   ]
  },
  {
   "cell_type": "code",
   "execution_count": 20,
   "id": "68146d53",
   "metadata": {},
   "outputs": [],
   "source": [
    "# 1st elements of each list are empty to have indexing be like in Newman's book\n",
    "R = ['', 1e3, 2e3, 1e3, 2e3, 1e3]  # list of resistance values\n",
    "\n",
    "omega = 1e3  # [rad/s]\n",
    "C = ['', 1e-6 * omega * 1j, 5e-7 * omega * 1j]  # [F*rad/s]\n",
    "# Capacitance is always multiplied by iw\n",
    "\n",
    "xplus = 3.  # [V]"
   ]
  },
  {
   "cell_type": "code",
   "execution_count": 22,
   "id": "7459a02b",
   "metadata": {},
   "outputs": [
    {
     "name": "stdout",
     "output_type": "stream",
     "text": [
      "Amplitudes and phases of voltages with resistor R6:\n",
      "  |V1| = 1.70e+00 V, phi1(t=0) = -5 degrees\n",
      "  |V2| = 1.48e+00 V, phi2(t=0) = 11 degrees\n",
      "  |V3| = 1.86e+00 V, phi3(t=0) = -4 degrees\n"
     ]
    }
   ],
   "source": [
    "R6 = 2e3  # [ohms]\n",
    "v = xplus*np.array([1./R[1], 1./R[2], 1./R[3]], complex)  # the RHS\n",
    "\n",
    "# the time array for plotting\n",
    "duration = 1.5*2.*np.pi/omega\n",
    "t = np.linspace(0., duration, 256)\n",
    "\n",
    "X = sl.PartialPivot(CircuitMatrix(R6, R, C), v)  # [x1, x2, x3]\n",
    "V1 = X[0] * np.exp(1j*omega*t)\n",
    "V2 = X[1] * np.exp(1j*omega*t)\n",
    "V3 = X[2] * np.exp(1j*omega*t)\n",
    "\n",
    "print(\"Amplitudes and phases of voltages with resistor R6:\")\n",
    "for i in range(3):\n",
    "    print(\"  |V{0}| = {1:.2e} V, phi{0}(t=0) = {2} degrees\".format(\n",
    "        i+1, abs(X[i]), int(np.angle(X[i], deg=True))))"
   ]
  },
  {
   "cell_type": "markdown",
   "id": "6ba6fa60",
   "metadata": {},
   "source": [
    "Plot the (real) voltages $|V_1|$, $|V_2|$, and $|V_3|$ as a function of time for one or two periods\n",
    "of the oscillations."
   ]
  },
  {
   "cell_type": "code",
   "execution_count": 23,
   "id": "c5d201e0",
   "metadata": {},
   "outputs": [
    {
     "data": {
      "image/png": "[encoded data removed]",
      "text/plain": [
       "<Figure size 432x288 with 1 Axes>"
      ]
     },
     "metadata": {
      "needs_background": "light"
     },
     "output_type": "display_data"
    }
   ],
   "source": [
    "plt.figure()\n",
    "plt.plot(t, np.real(V1), label='$V_1$')\n",
    "plt.plot(t, np.real(V2), label='$V_2$')\n",
    "plt.plot(t, np.real(V3), label='$V_3$')\n",
    "plt.xlabel('time (s)')\n",
    "plt.ylabel(r'Real parts of $V_i$, in V')\n",
    "plt.title(r'When the resistor is $R_6 = 2000$ $\\Omega$.')\n",
    "plt.grid()\n",
    "plt.legend()\n",
    "plt.tight_layout()"
   ]
  },
  {
   "cell_type": "markdown",
   "id": "b7055fda",
   "metadata": {},
   "source": [
    "Now replace the resistor $R_6$ with an inductor $L$.\n",
    "Set $R_6 = 2$ k$\\Omega$, $\\omega = 1000$ rad/s , and $L=R_6/\\omega = 2$ H, where H is the Henries unit of inductance.\n",
    "\n",
    "Again, print and calculate the amplitudes and phases of $V_1$, $V_2$, and $V_3$, and plot $V_1$, $V_2$ and $V_3$ as a function of time.\n",
    "\n",
    "Briefly describe the impact of replacing the resistor $R_6$ by the imaginary impedance of the same magnitude, $i R_6$."
   ]
  },
  {
   "cell_type": "code",
   "execution_count": 24,
   "id": "6a62a6f3",
   "metadata": {},
   "outputs": [
    {
     "name": "stdout",
     "output_type": "stream",
     "text": [
      "Amplitudes and phases of voltages with inductor:\n",
      "  |V1| = 1.56e+00 V, phi1(t=0) = -4 degrees\n",
      "  |V2| = 1.50e+00 V, phi2(t=0) = 21 degrees\n",
      "  |V3| = 2.81e+00 V, phi3(t=0) = 14 degrees\n"
     ]
    }
   ],
   "source": [
    "L = R6/omega  # [H] the inductance\n",
    "\n",
    "X = sl.PartialPivot(CircuitMatrix(1j*omega*L, R, C), v)  # [x1, x2, x3]\n",
    "V1 = X[0] * np.exp(1j*omega*t)\n",
    "V2 = X[1] * np.exp(1j*omega*t)\n",
    "V3 = X[2] * np.exp(1j*omega*t)\n",
    "\n",
    "print(\"Amplitudes and phases of voltages with inductor:\")\n",
    "for i in range(3):\n",
    "    print(\"  |V{0}| = {1:.2e} V, phi{0}(t=0) = {2} degrees\".format(\n",
    "        i+1, abs(X[i]), int(np.angle(X[i], deg=True))))"
   ]
  },
  {
   "cell_type": "code",
   "execution_count": 25,
   "id": "3eae59eb",
   "metadata": {},
   "outputs": [
    {
     "data": {
      "image/png": "[encoded data removed]",
      "text/plain": [
       "<Figure size 432x288 with 1 Axes>"
      ]
     },
     "metadata": {
      "needs_background": "light"
     },
     "output_type": "display_data"
    }
   ],
   "source": [
    "plt.figure()\n",
    "plt.plot(t, np.real(V1), label='$V_1$')\n",
    "plt.plot(t, np.real(V2), label='$V_2$')\n",
    "plt.plot(t, np.real(V3), label='$V_3$')\n",
    "plt.xlabel('time (s)')\n",
    "plt.ylabel('Real parts of $V_i$, in V')\n",
    "plt.title('When the inductor is $L = 2$ H.')\n",
    "plt.grid()\n",
    "plt.legend()\n",
    "plt.tight_layout()"
   ]
  },
  {
   "cell_type": "markdown",
   "id": "3f92c1a5",
   "metadata": {},
   "source": [
    "With the imaginary impedance: the amplitude |V3| is larger,  indicating weaker resistance overall.   The signals in V2 and V3 have shifted ahead in phase, due to the inductor. V1 is not affected as much."
   ]
  },
  {
   "cell_type": "code",
   "execution_count": null,
   "id": "75af92ec",
   "metadata": {},
   "outputs": [],
   "source": []
  }
 ],
 "metadata": {
  "kernelspec": {
   "display_name": "Python 3 (ipykernel)",
   "language": "python",
   "name": "python3"
  },
  "language_info": {
   "codemirror_mode": {
    "name": "ipython",
    "version": 3
   },
   "file_extension": ".py",
   "mimetype": "text/x-python",
   "name": "python",
   "nbconvert_exporter": "python",
   "pygments_lexer": "ipython3",
   "version": "3.9.7"
  }
 },
 "nbformat": 4,
 "nbformat_minor": 5
}
