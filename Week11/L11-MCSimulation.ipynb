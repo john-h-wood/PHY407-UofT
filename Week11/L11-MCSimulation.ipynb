{
 "cells": [
  {
   "cell_type": "markdown",
   "metadata": {
    "slideshow": {
     "slide_type": "slide"
    }
   },
   "source": [
    "*Supporting textbook chapters for week 11: Chapters 10.3 & 10.4*\n",
    "\n",
    "Week 10, topics:\n",
    "* Monte Carlo for Statistical Mechanics\n",
    "  * Markov Chain\n",
    "  * Simulated Annealing\n",
    "  * Ising Model example"
   ]
  },
  {
   "cell_type": "markdown",
   "metadata": {
    "slideshow": {
     "slide_type": "slide"
    }
   },
   "source": [
    "**Monte Carlo simulations:**\n",
    "\n",
    "> Any simulation that uses random numbers to simulate random physical processes to estimate something about the outcome of that process.\n",
    "\n",
    "    Newman, p. 476.\n",
    "\n",
    "We focus on statistical mechanics here."
   ]
  },
  {
   "cell_type": "markdown",
   "metadata": {
    "slideshow": {
     "slide_type": "subslide"
    }
   },
   "source": [
    "# Statistical mechanics: a review\n",
    "\n",
    "* For a system in equilibrium at temperature $T$, the probability of finding the system in any particular state $i$ is given by the Boltzmann distribution,\n",
    "$$P(E_i) = \\frac{\\exp\\left[-E_i/(k_B T)\\right]}{Z}, \\quad Z = \\sum_{i=1}^{ALL}\\exp\\left[-E_i/(k_B T)\\right]$$\n",
    "where $E_i$ is the energy of state $i$, $k_B$ is Boltzmann's constant, $Z$ is partition function\n",
    "\n",
    "* System at temperature $T$ undergoes transitions between states, with probability of being in a particular state $P(E_i)$ "
   ]
  },
  {
   "cell_type": "markdown",
   "metadata": {
    "slideshow": {
     "slide_type": "subslide"
    }
   },
   "source": [
    "* To calculate expectation value of a macroscopic property $X$ (e.g. total energy, magnetization, spin): average over the many microstates that the system visits\n",
    "    $$\\left<X\\right> = \\sum_{i=1}^{ALL}X_i P(E_i)$$\n",
    "    where $X_i$ is the value of the quantity in the $i^\\text{th}$ microstate and $P$ is the probability of finding the system in that microstate. \n",
    "* Simple example: single mole of gas has $N_A \\approx 6\\times 10^{23}$ molecules.\n",
    "    Assume each molecule had only 2 possible spin states (gross underestimation), then the total number of spin microstates of the mole of gas is $2^{N_A}$, which is huge.\n",
    "* If we want to get any  useful macroscopic information $\\left<X\\right>$ about the system, we need to be more clever about how we count than just brute-force counting everything."
   ]
  },
  {
   "cell_type": "markdown",
   "metadata": {
    "slideshow": {
     "slide_type": "subslide"
    }
   },
   "source": [
    "\n",
    "$$\\left<X\\right> = \\sum_{i=1}^{ALL}X_i P(E_i), \\quad P(E_i) = \\frac{\\exp\\left[-E_i/(k_B T)\\right]}{Z}, \\quad Z = \\sum_{i=1}^{ALL}\\exp\\left[-E_i/(k_B T)\\right]$$\n",
    "\n",
    "\n",
    "* Huge number of terms in sum $\\Rightarrow$ often impossible to perform analytically $\\Rightarrow$ use Monte Carlo summation.\n",
    "* Two difficulties to overcome:\n",
    "    1. estimating $\\left<X\\right>$: properly sampling which terms to sum over (*solution: importance sampling*),\n",
    "    2. estimating $Z$ (*solution: Markov Chain Monte Carlo*)\n",
    "    "
   ]
  },
  {
   "cell_type": "markdown",
   "metadata": {
    "slideshow": {
     "slide_type": "slide"
    }
   },
   "source": [
    "## Importance sampling for Stat. Mech.\n",
    "\n",
    "* Randomly sample the terms in the sum and only use those as an estimate. Replace\n",
    "   $\\left<X\\right> = \\sum_{i=1}^{ALL}X_i P(E_i)$\n",
    "    with a sum over $N$ randomly sampled microstates,\n",
    "    $$\\left<X\\right> = \\frac{\\sum_{i=1}^{N}X_i P(E_i)}{\\sum_{i=1}^{N}P(E_i)}.$$\n",
    "  * Denominator ensures total probability over the sampled states is 1.\n",
    "* To get a good estimate for the sum, it is only worth keeping the big terms\n",
    "  * A lot of states have $E_ i \\gg k_B T$, therefore $P(E_i)$ really small since probability is proportional to $\\exp\\left[-E_i/(k_B T)\\right]$\n",
    "* Need to preferentially choose terms where the integrand is non-negligible, but assign them less weight individually (to not bias the final estimate) ... so use importance sampling!"
   ]
  },
  {
   "cell_type": "markdown",
   "metadata": {
    "slideshow": {
     "slide_type": "subslide"
    }
   },
   "source": [
    "\n",
    "\n",
    "* For a dicrete sum (see p. 478),\n",
    "    $$\\left<X\\right> = \\sum_{i=1}^{N}X_i P(E_i) \\approx \\frac1N \\sum_{k=1}^{N}\\frac{X_k P(E_k)}{w_k} \\sum_{i=1}^{ALL}w_i.$$\n",
    "* For weight $w$, use $P(E_i)$\n",
    "$$\\left<X\\right> \\approx \\frac1N \\sum_{k=1}^{N}\\underbrace{\\frac{X_k P(E_k)}{P(E_k)}}_{= X_k} \\underbrace{\\sum_{i=1}^{ALL}P(E_i)}_{=1}.$$"
   ]
  },
  {
   "cell_type": "markdown",
   "metadata": {
    "slideshow": {
     "slide_type": "subslide"
    }
   },
   "source": [
    "In the end,\n",
    "$$\\left<X\\right> \\approx \\frac1N \\sum_{k=1}^{N} X_k.$$\n",
    "* Looks simple and no different from mean-value MC,\n",
    "* but recall that the $X_k$'s are drawn from non-uniform distribution: we randomly choose terms in the sum based on their Boltzmann probabilities, $P(E)$. But how? Recall\n",
    "    $$P(E_i) = \\frac{\\exp\\left[-E_i/(k_B T)\\right]}{Z}, \\quad Z = \\sum_{i=1}^{ALL}\\exp\\left[-E_i/(k_B T)\\right]$$\n",
    "\n",
    "* To do it this way, we need $Z$, which is a sum over all states. But if we could do this, we wouldn't need Monte Carlo in the first place!"
   ]
  },
  {
   "cell_type": "markdown",
   "metadata": {
    "slideshow": {
     "slide_type": "slide"
    }
   },
   "source": [
    "## Markov chain method\n",
    "\n",
    "Mish-mashing https://en.wikipedia.org/wiki/Markov_chain and https://en.wikipedia.org/wiki/Markov_property,\n",
    "\n",
    "> A Markov chain is a stochastic model describing a sequence of possible events in which the probability of each event depends only on the state attained in the previous event. [...] (sometimes characterized as \"memorylessness\"). In simpler terms, it is a process for which predictions can be made regarding future outcomes based solely on its present state [...]. In other words, conditional on the present state of the system, its future and past states are independent.\n",
    "\n",
    "* Random walks (Brownian motion) are Markov chains.\n",
    "* Here: events are jumps in energy states, one after another."
   ]
  },
  {
   "cell_type": "markdown",
   "metadata": {
    "cell_style": "split",
    "slideshow": {
     "slide_type": "subslide"
    }
   },
   "source": [
    "Solution: Use the Markov chain method.\n",
    "* Text goes into details on how to implement this method with a Metropolis algorithm.\n",
    "* Crucial key: Metropolis does not directly compute probability to be in one state, but instead uses probability to transition between two states\n",
    "   * $Z$ cancels out in the process!\n",
    "* In this lecture, we will summarize it algorithmically first, then briefly outline why it works mathematically."
   ]
  },
  {
   "cell_type": "markdown",
   "metadata": {
    "slideshow": {
     "slide_type": "subslide"
    }
   },
   "source": [
    "### Algorithm\n",
    "\n",
    "1. Choose a random starting state $i$\n",
    "2. Calculate the energy of that state $E_i$\n",
    "3. Choose a transition to a new state $j$ uniformly at random from allowed set\n",
    "4. Calculate the energy of this new state, $E_j$\n",
    "5. Calculate the acceptance probability for this transition:\n",
    "    * $P_a = 1\\qquad\\qquad \\qquad \\quad \\text{if}\\ E_j \\leq E_i$ (always accept a lower energy state)\n",
    "    * $\\displaystyle P_a = \\exp\\left(-\\frac{E_j - E_i}{k_B T}\\right) \\quad \\text{if}\\ E_j > E_i$ (accept a higher energy state sometimes, more often for high $T$).\n",
    "6. Accept/reject the move according to the acceptance probability\n",
    "7. Measure the quantity $X$ you want in its current state (new or old $i$) & store it\n",
    "8. Repeat from step 2.\n"
   ]
  },
  {
   "cell_type": "markdown",
   "metadata": {
    "slideshow": {
     "slide_type": "subslide"
    }
   },
   "source": [
    "* How to implement the probability of the event in the previous slide?\n",
    "    * $P_a = 1\\qquad\\qquad \\qquad \\quad \\text{if}\\ E_j \\leq E_i$ (always accept a lower energy state)\n",
    "    * $\\displaystyle P_a = \\exp\\left(-\\frac{E_j - E_i}{k_B T}\\right) \\quad \\text{if}\\ E_j > E_i$ (sometimes accept a higher energy state, more often for hight $T$).\n",
    "\n",
    "* Draw a random number in $[0,1)$. The statement\n",
    "\n",
    "    `if random() < exp(-(Ej-Ei)/kT):`\n",
    "\n",
    "    will introduce what to do if the move is accepted (`elif` will introduce what to do if rejected).\n",
    "    * E.g., at very high $T$, $\\exp(\\dots) \\approx 1$ and almost all moves are accepted.\n",
    "    * E.g., at low $T$, say, $\\exp[-\\Delta E/(k_BT)] = 1\\%$, then `random()` has 1% chance of drawing a number that is $<1\\%$.\n",
    "    * If $E_j \\leq E_i$, then $\\exp(\\dots) \\geq 1$ and `if` statement automatically accepts."
   ]
  },
  {
   "cell_type": "markdown",
   "metadata": {
    "slideshow": {
     "slide_type": "subslide"
    }
   },
   "source": [
    "Why does Metropolis create a system where each microstate has a probability $P(E_i)$, the Boltzmann distribution?\n",
    "* Let $\\tau_{ij}$ be transition probability from microstate $i$ to microstate $j$, such that\n",
    "    $$\\frac{\\tau_{ij}}{\\tau_{ji}} = \\frac{P(E_j)}{P(E_i)},$$\n",
    "    which the Metropolis algorithm satisfies (see p. 482). For example, a small ratio above means \n",
    "    * RHS: \"*$j$ is much less probable than $i$*\" and equivalently,\n",
    "    * LHS: \"*probability of $j\\to i$ is much higher than $i\\to j$*\", \n",
    "  \n",
    "    both statements being true in equal amounts.\n",
    "* \"In equal amounts\" is crucial: it means that if you start from any initial state, your system will progressively evolve towards one where all microstates follow Boltzmann.\n",
    "* Does it always converge? Yes. If you love linear algebra, see proof in Appendix D of Newman (it is actually quite elegant)."
   ]
  },
  {
   "cell_type": "markdown",
   "metadata": {
    "slideshow": {
     "slide_type": "slide"
    }
   },
   "source": [
    "## Example: Ising model\n",
    "\n",
    "* Simple model of ferromagnetism, demonstrating many physical characteristics of fancier models.\n",
    "* Assume an object is made up of a collection of dipoles (e.g., electron spins) and the net magnetization is the sum of the magnetization of all the spins.\n",
    "* Ising model: \n",
    "    * assume the spins can only point up or down.\n",
    "    * the spins interact and favour parallel alignment of pairs of spins\n",
    "    * the interactions are non-zero only between nearest neighbours (i.e., distance dependent).\n",
    "* Macroscopic energy $E$ and magnetization $M$ (with no external field) are given by \n",
    "    $$E = -J\\sum_{\\left<ij\\right>} s_i s_j\\quad\\text{and}\\quad M = \\sum_{i}s_i$$\n",
    "    where $s = +1$ if spin is up & $s = -1$ if spin is down.\n",
    "    * Lowest energy occurs if the spins all line up."
   ]
  },
  {
   "cell_type": "markdown",
   "metadata": {
    "slideshow": {
     "slide_type": "subslide"
    }
   },
   "source": [
    "* Spins can randomly flip as the system visits a set of allowable states given its temperature.  At any particular moment the system may look like\n",
    "![](Ising2D.png)"
   ]
  },
  {
   "cell_type": "markdown",
   "metadata": {
    "slideshow": {
     "slide_type": "subslide"
    }
   },
   "source": [
    "### Example in 1D\n",
    "\n",
    "* Create array of dipoles, initial state: random spin at each location.\n",
    "* Calculate energy & magnetization of state\n",
    "* Implement Metropolis algorithm:\n",
    "    * create new state: flip 1 spin randomly \n",
    "    * calculate new total energy\n",
    "    * calculate acceptance probability\n",
    "    * decide whether to accept or reject new state\n",
    "    * store 'new' energy & magnetization\n",
    "    * repeat  "
   ]
  },
  {
   "cell_type": "code",
   "execution_count": null,
   "metadata": {
    "slideshow": {
     "slide_type": "subslide"
    }
   },
   "outputs": [],
   "source": [
    "\"\"\" This program calculates the total energy and magnetization\n",
    "for a 1D Ising model with N dipoles\n",
    "Author: Nico Grisouard, University of Toronto \"\"\"\n",
    "\n",
    "import numpy as np\n",
    "from random import random, randrange\n",
    "import matplotlib.pyplot as plt\n",
    "\n",
    "def energyfunction(J_, dipoles):\n",
    "    energy = -J_*np.sum(dipoles[0:-1]*dipoles[1:])\n",
    "    return energy\n",
    "\n",
    "def acceptance(ARGUMENTS):\n",
    "    \"\"\" Function for acceptance probability; to be completed \"\"\"\n",
    "    # Do stuff here\n",
    "    return result  # result is True or False"
   ]
  },
  {
   "cell_type": "code",
   "execution_count": null,
   "metadata": {
    "slideshow": {
     "slide_type": "subslide"
    }
   },
   "outputs": [],
   "source": [
    "# define constants\n",
    "kB = 1.0  # \"Boltzmann\" constant\n",
    "T = 1.0  # \"Temparature\"\n",
    "J = 1.0  # Interaction\n",
    "num_dipoles = 100\n",
    "N = 100  # number of flips\n",
    "\n",
    "# generate array of dipoles and initialize diagnostic quantities\n",
    "dipoles = np.ones(num_dipoles, int)  # hint: this will not work\n",
    "energy = []\n",
    "magnet = []\n",
    "E = energyfunction(J, dipoles)\n",
    "energy.append(E)\n",
    "magnet.append(sum(dipoles))\n"
   ]
  },
  {
   "cell_type": "code",
   "execution_count": null,
   "metadata": {
    "slideshow": {
     "slide_type": "subslide"
    }
   },
   "outputs": [],
   "source": [
    "print(dipoles)"
   ]
  },
  {
   "cell_type": "code",
   "execution_count": null,
   "metadata": {
    "slideshow": {
     "slide_type": "subslide"
    }
   },
   "outputs": [],
   "source": [
    "for i in range(N):\n",
    "    picked = randrange(num_dipoles)  # choose a dipole\n",
    "    dipoles[picked] *= -1  # propose to flip this dipole\n",
    "    Enew = energyfunction(J, dipoles)  # compute Energy of proposed new state\n",
    "\n",
    "    # calculate acceptance probability\n",
    "    accepted = acceptance(Enew, E,)\n",
    "\n",
    "    # store energy and magnetization"
   ]
  },
  {
   "cell_type": "code",
   "execution_count": 15,
   "metadata": {
    "slideshow": {
     "slide_type": "subslide"
    }
   },
   "outputs": [
    {
     "data": {
      "image/png": "[encoded data removed]",
      "text/plain": [
       "<Figure size 432x288 with 2 Axes>"
      ]
     },
     "metadata": {
      "needs_background": "light"
     },
     "output_type": "display_data"
    }
   ],
   "source": [
    "# plot energy, magnetisation\n",
    "fg, ax = plt.subplots(2, 1, sharex=True)\n",
    "ax[0].plot(magnet)\n",
    "ax[0].set_ylabel('Magnetization')\n",
    "ax[0].grid()\n",
    "ax[1].plot(energy)\n",
    "ax[1].set_xlabel('Number of flipping attempts')\n",
    "ax[1].set_ylabel('Energy')\n",
    "ax[1].grid()\n",
    "\n",
    "plt.tight_layout()\n",
    "plt.show()"
   ]
  },
  {
   "cell_type": "markdown",
   "metadata": {
    "slideshow": {
     "slide_type": "slide"
    }
   },
   "source": [
    "# Simulated annealing\n",
    "\n",
    "* Using Monte Carlo simulations to find **global** minima/maxima.\n",
    "* In week 4 we talked about ways of finding local minima, which worked well if we had one, well-bracketed minimum. How about multiple local minima?\n",
    "* How it works:  rewrite max/min problem as looking for a \"ground state energy\" of a system.\n",
    "    * Function $f$ that you want the max/min of: make this the energy function.\n",
    "    * how could you find ground state: reduce temperature until you reach the ground state.\n",
    "* Issue: if you reduce temperature too quickly: might get caught in a local min instead of the global min.\n",
    "* Solution: reduce temperature slowly.\n",
    "    This way system has time to explore many microstates and find a good approximation to the global minimum."
   ]
  },
  {
   "cell_type": "markdown",
   "metadata": {
    "slideshow": {
     "slide_type": "subslide"
    }
   },
   "source": [
    "\n",
    "* Visual Analogy: particle in a bumpy potential.\n",
    "    * Too low energy: get stuck in nearest local minimum.\n",
    "    * Keep low energy but allow some random 'kicks' in energy: can kick out of local minimum and continue heading to global minimum\n",
    "    * ![](Hill_Climbing_with_Simulated_Annealing.png)\n",
    "\n",
    "       (https://commons.wikimedia.org/wiki/File:Hill_Climbing_with_Simulated_Annealing.gif)"
   ]
  },
  {
   "cell_type": "markdown",
   "metadata": {
    "cell_style": "split",
    "slideshow": {
     "slide_type": "subslide"
    }
   },
   "source": [
    "## Example: travelling salesman\n",
    "\n",
    "* Famous NP-hard problem (https://en.wikipedia.org/wiki/NP-hardness): what is the shortest route to visit a given set of locations on a map?\n",
    "* Want global minimum of distance\n",
    "* Start with random route, swap 2 cities, use Metropolis algorithm to determine whether to keep the swap\n",
    "  * \"energy\" in this case is the total distance of the route\n",
    "  * You can explore this problem using code from the book (`salesman.py`)."
   ]
  },
  {
   "cell_type": "markdown",
   "metadata": {
    "cell_style": "split",
    "slideshow": {
     "slide_type": "subslide"
    }
   },
   "source": [
    "![Newman's fig. 10.6](fig10-6.png)"
   ]
  },
  {
   "cell_type": "markdown",
   "metadata": {
    "cell_style": "split",
    "slideshow": {
     "slide_type": "slide"
    }
   },
   "source": [
    "## Summary\n",
    "\n",
    "* Stat mech results often involve sums over impractical number of terms\n",
    "  * Monte Carlo can sample a representative number of microstates: importance sampling\n",
    "     * weight = probability of given microstate\n",
    "  * How to compute partition function: Markov Chain using Metropolis algorithm.\n",
    "    * Randomly explore states by transitioning from one microstate to the next\n",
    "    * Works because the transition probability is closely related to the ratios of probabilities of being in either state.\n",
    "   * Famous and fundamental example: the Ising model.\n",
    "\n",
    "* Simulated annealing for finding global minimum of a function: let $f$ be the \"energy\", and lower the \"temperature\" progressively\n",
    "  * Famous example: travelling salesman problem"
   ]
  },
  {
   "cell_type": "markdown",
   "metadata": {
    "cell_style": "split",
    "slideshow": {
     "slide_type": "subslide"
    }
   },
   "source": [
    "\n",
    "\n"
   ]
  }
 ],
 "metadata": {
  "celltoolbar": "Slideshow",
  "kernelspec": {
   "display_name": "Python 3 (ipykernel)",
   "language": "python",
   "name": "python3"
  },
  "language_info": {
   "codemirror_mode": {
    "name": "ipython",
    "version": 3
   },
   "file_extension": ".py",
   "mimetype": "text/x-python",
   "name": "python",
   "nbconvert_exporter": "python",
   "pygments_lexer": "ipython3",
   "version": "3.9.7"
  }
 },
 "nbformat": 4,
 "nbformat_minor": 2
}
